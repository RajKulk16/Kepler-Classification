{
 "cells": [
  {
   "cell_type": "markdown",
   "id": "6d3d3507-9f58-4d3a-ab34-cb0338952113",
   "metadata": {},
   "source": [
    "### Create an ML algorithm to classify the planets as Candidate/False positive/Confirmed etc based on the  column “koi_disposition”."
   ]
  },
  {
   "cell_type": "code",
   "execution_count": 1,
   "id": "08e98f7f-0e29-4b00-b3c8-090955aee29d",
   "metadata": {},
   "outputs": [],
   "source": [
    "import warnings\n",
    "warnings.simplefilter('ignore')"
   ]
  },
  {
   "cell_type": "code",
   "execution_count": 91,
   "id": "8890382e-b4e3-4564-a85e-86c613a6233c",
   "metadata": {},
   "outputs": [],
   "source": [
    "import numpy as np \n",
    "import pandas as pd\n",
    "import matplotlib.pyplot as plt\n",
    "import seaborn as sns\n",
    "from fast_ml.feature_selection import get_constant_features\n",
    "from sklearn.decomposition import PCA\n",
    "from sklearn.impute import KNNImputer\n",
    "from sklearn.compose import ColumnTransformer\n",
    "from category_encoders import BinaryEncoder\n",
    "from sklearn.preprocessing import LabelEncoder, OneHotEncoder, StandardScaler\n",
    "from sklearn.feature_selection import mutual_info_classif\n",
    "from statsmodels.stats.outliers_influence import variance_inflation_factor\n",
    "\n",
    "from sklearn.model_selection import train_test_split, cross_val_score, RandomizedSearchCV, StratifiedKFold\n",
    "from sklearn.linear_model import LogisticRegression\n",
    "import xgboost\n",
    "from sklearn.ensemble import AdaBoostClassifier, RandomForestClassifier, ExtraTreesClassifier\n",
    "from sklearn.metrics import accuracy_score,precision_score,recall_score,f1_score,make_scorer,confusion_matrix\n",
    "from lazypredict.Supervised import LazyClassifier\n",
    "\n",
    "%matplotlib inline"
   ]
  },
  {
   "cell_type": "code",
   "execution_count": 3,
   "id": "91aedac2-22f7-407d-9e91-10a21392c004",
   "metadata": {},
   "outputs": [
    {
     "data": {
      "text/html": [
       "<div>\n",
       "<style scoped>\n",
       "    .dataframe tbody tr th:only-of-type {\n",
       "        vertical-align: middle;\n",
       "    }\n",
       "\n",
       "    .dataframe tbody tr th {\n",
       "        vertical-align: top;\n",
       "    }\n",
       "\n",
       "    .dataframe thead th {\n",
       "        text-align: right;\n",
       "    }\n",
       "</style>\n",
       "<table border=\"1\" class=\"dataframe\">\n",
       "  <thead>\n",
       "    <tr style=\"text-align: right;\">\n",
       "      <th></th>\n",
       "      <th>kepid</th>\n",
       "      <th>kepoi_name</th>\n",
       "      <th>kepler_name</th>\n",
       "      <th>koi_disposition</th>\n",
       "      <th>koi_pdisposition</th>\n",
       "      <th>koi_score</th>\n",
       "      <th>koi_fpflag_nt</th>\n",
       "      <th>koi_fpflag_ss</th>\n",
       "      <th>koi_fpflag_co</th>\n",
       "      <th>koi_fpflag_ec</th>\n",
       "      <th>...</th>\n",
       "      <th>koi_steff_err2</th>\n",
       "      <th>koi_slogg</th>\n",
       "      <th>koi_slogg_err1</th>\n",
       "      <th>koi_slogg_err2</th>\n",
       "      <th>koi_srad</th>\n",
       "      <th>koi_srad_err1</th>\n",
       "      <th>koi_srad_err2</th>\n",
       "      <th>ra</th>\n",
       "      <th>dec</th>\n",
       "      <th>koi_kepmag</th>\n",
       "    </tr>\n",
       "  </thead>\n",
       "  <tbody>\n",
       "    <tr>\n",
       "      <th>0</th>\n",
       "      <td>10797460</td>\n",
       "      <td>K00752.01</td>\n",
       "      <td>Kepler-227 b</td>\n",
       "      <td>CONFIRMED</td>\n",
       "      <td>CANDIDATE</td>\n",
       "      <td>1.00</td>\n",
       "      <td>0</td>\n",
       "      <td>0</td>\n",
       "      <td>0</td>\n",
       "      <td>0</td>\n",
       "      <td>...</td>\n",
       "      <td>-81.00</td>\n",
       "      <td>4.47</td>\n",
       "      <td>0.06</td>\n",
       "      <td>-0.10</td>\n",
       "      <td>0.93</td>\n",
       "      <td>0.10</td>\n",
       "      <td>-0.06</td>\n",
       "      <td>291.93</td>\n",
       "      <td>48.14</td>\n",
       "      <td>15.35</td>\n",
       "    </tr>\n",
       "    <tr>\n",
       "      <th>1</th>\n",
       "      <td>10797460</td>\n",
       "      <td>K00752.02</td>\n",
       "      <td>Kepler-227 c</td>\n",
       "      <td>CONFIRMED</td>\n",
       "      <td>CANDIDATE</td>\n",
       "      <td>0.97</td>\n",
       "      <td>0</td>\n",
       "      <td>0</td>\n",
       "      <td>0</td>\n",
       "      <td>0</td>\n",
       "      <td>...</td>\n",
       "      <td>-81.00</td>\n",
       "      <td>4.47</td>\n",
       "      <td>0.06</td>\n",
       "      <td>-0.10</td>\n",
       "      <td>0.93</td>\n",
       "      <td>0.10</td>\n",
       "      <td>-0.06</td>\n",
       "      <td>291.93</td>\n",
       "      <td>48.14</td>\n",
       "      <td>15.35</td>\n",
       "    </tr>\n",
       "    <tr>\n",
       "      <th>2</th>\n",
       "      <td>10811496</td>\n",
       "      <td>K00753.01</td>\n",
       "      <td>NaN</td>\n",
       "      <td>CANDIDATE</td>\n",
       "      <td>CANDIDATE</td>\n",
       "      <td>0.00</td>\n",
       "      <td>0</td>\n",
       "      <td>0</td>\n",
       "      <td>0</td>\n",
       "      <td>0</td>\n",
       "      <td>...</td>\n",
       "      <td>-176.00</td>\n",
       "      <td>4.54</td>\n",
       "      <td>0.04</td>\n",
       "      <td>-0.18</td>\n",
       "      <td>0.87</td>\n",
       "      <td>0.23</td>\n",
       "      <td>-0.08</td>\n",
       "      <td>297.00</td>\n",
       "      <td>48.13</td>\n",
       "      <td>15.44</td>\n",
       "    </tr>\n",
       "    <tr>\n",
       "      <th>3</th>\n",
       "      <td>10848459</td>\n",
       "      <td>K00754.01</td>\n",
       "      <td>NaN</td>\n",
       "      <td>FALSE POSITIVE</td>\n",
       "      <td>FALSE POSITIVE</td>\n",
       "      <td>0.00</td>\n",
       "      <td>0</td>\n",
       "      <td>1</td>\n",
       "      <td>0</td>\n",
       "      <td>0</td>\n",
       "      <td>...</td>\n",
       "      <td>-174.00</td>\n",
       "      <td>4.56</td>\n",
       "      <td>0.05</td>\n",
       "      <td>-0.17</td>\n",
       "      <td>0.79</td>\n",
       "      <td>0.20</td>\n",
       "      <td>-0.07</td>\n",
       "      <td>285.53</td>\n",
       "      <td>48.29</td>\n",
       "      <td>15.60</td>\n",
       "    </tr>\n",
       "    <tr>\n",
       "      <th>4</th>\n",
       "      <td>10854555</td>\n",
       "      <td>K00755.01</td>\n",
       "      <td>Kepler-664 b</td>\n",
       "      <td>CONFIRMED</td>\n",
       "      <td>CANDIDATE</td>\n",
       "      <td>1.00</td>\n",
       "      <td>0</td>\n",
       "      <td>0</td>\n",
       "      <td>0</td>\n",
       "      <td>0</td>\n",
       "      <td>...</td>\n",
       "      <td>-211.00</td>\n",
       "      <td>4.44</td>\n",
       "      <td>0.07</td>\n",
       "      <td>-0.21</td>\n",
       "      <td>1.05</td>\n",
       "      <td>0.33</td>\n",
       "      <td>-0.13</td>\n",
       "      <td>288.75</td>\n",
       "      <td>48.23</td>\n",
       "      <td>15.51</td>\n",
       "    </tr>\n",
       "    <tr>\n",
       "      <th>...</th>\n",
       "      <td>...</td>\n",
       "      <td>...</td>\n",
       "      <td>...</td>\n",
       "      <td>...</td>\n",
       "      <td>...</td>\n",
       "      <td>...</td>\n",
       "      <td>...</td>\n",
       "      <td>...</td>\n",
       "      <td>...</td>\n",
       "      <td>...</td>\n",
       "      <td>...</td>\n",
       "      <td>...</td>\n",
       "      <td>...</td>\n",
       "      <td>...</td>\n",
       "      <td>...</td>\n",
       "      <td>...</td>\n",
       "      <td>...</td>\n",
       "      <td>...</td>\n",
       "      <td>...</td>\n",
       "      <td>...</td>\n",
       "      <td>...</td>\n",
       "    </tr>\n",
       "    <tr>\n",
       "      <th>9559</th>\n",
       "      <td>10090151</td>\n",
       "      <td>K07985.01</td>\n",
       "      <td>NaN</td>\n",
       "      <td>FALSE POSITIVE</td>\n",
       "      <td>FALSE POSITIVE</td>\n",
       "      <td>0.00</td>\n",
       "      <td>0</td>\n",
       "      <td>1</td>\n",
       "      <td>1</td>\n",
       "      <td>0</td>\n",
       "      <td>...</td>\n",
       "      <td>-166.00</td>\n",
       "      <td>4.53</td>\n",
       "      <td>0.04</td>\n",
       "      <td>-0.20</td>\n",
       "      <td>0.90</td>\n",
       "      <td>0.24</td>\n",
       "      <td>-0.08</td>\n",
       "      <td>297.19</td>\n",
       "      <td>47.09</td>\n",
       "      <td>14.08</td>\n",
       "    </tr>\n",
       "    <tr>\n",
       "      <th>9560</th>\n",
       "      <td>10128825</td>\n",
       "      <td>K07986.01</td>\n",
       "      <td>NaN</td>\n",
       "      <td>CANDIDATE</td>\n",
       "      <td>CANDIDATE</td>\n",
       "      <td>0.50</td>\n",
       "      <td>0</td>\n",
       "      <td>0</td>\n",
       "      <td>0</td>\n",
       "      <td>0</td>\n",
       "      <td>...</td>\n",
       "      <td>-220.00</td>\n",
       "      <td>4.44</td>\n",
       "      <td>0.06</td>\n",
       "      <td>-0.22</td>\n",
       "      <td>1.03</td>\n",
       "      <td>0.34</td>\n",
       "      <td>-0.11</td>\n",
       "      <td>286.51</td>\n",
       "      <td>47.16</td>\n",
       "      <td>14.76</td>\n",
       "    </tr>\n",
       "    <tr>\n",
       "      <th>9561</th>\n",
       "      <td>10147276</td>\n",
       "      <td>K07987.01</td>\n",
       "      <td>NaN</td>\n",
       "      <td>FALSE POSITIVE</td>\n",
       "      <td>FALSE POSITIVE</td>\n",
       "      <td>0.02</td>\n",
       "      <td>0</td>\n",
       "      <td>0</td>\n",
       "      <td>1</td>\n",
       "      <td>0</td>\n",
       "      <td>...</td>\n",
       "      <td>-236.00</td>\n",
       "      <td>4.45</td>\n",
       "      <td>0.06</td>\n",
       "      <td>-0.22</td>\n",
       "      <td>1.04</td>\n",
       "      <td>0.34</td>\n",
       "      <td>-0.11</td>\n",
       "      <td>294.16</td>\n",
       "      <td>47.18</td>\n",
       "      <td>15.38</td>\n",
       "    </tr>\n",
       "    <tr>\n",
       "      <th>9562</th>\n",
       "      <td>10155286</td>\n",
       "      <td>K07988.01</td>\n",
       "      <td>NaN</td>\n",
       "      <td>CANDIDATE</td>\n",
       "      <td>CANDIDATE</td>\n",
       "      <td>0.09</td>\n",
       "      <td>0</td>\n",
       "      <td>0</td>\n",
       "      <td>0</td>\n",
       "      <td>0</td>\n",
       "      <td>...</td>\n",
       "      <td>-128.00</td>\n",
       "      <td>2.99</td>\n",
       "      <td>0.03</td>\n",
       "      <td>-0.03</td>\n",
       "      <td>7.82</td>\n",
       "      <td>0.22</td>\n",
       "      <td>-1.90</td>\n",
       "      <td>296.76</td>\n",
       "      <td>47.15</td>\n",
       "      <td>11.00</td>\n",
       "    </tr>\n",
       "    <tr>\n",
       "      <th>9563</th>\n",
       "      <td>10156110</td>\n",
       "      <td>K07989.01</td>\n",
       "      <td>NaN</td>\n",
       "      <td>FALSE POSITIVE</td>\n",
       "      <td>FALSE POSITIVE</td>\n",
       "      <td>0.00</td>\n",
       "      <td>0</td>\n",
       "      <td>0</td>\n",
       "      <td>1</td>\n",
       "      <td>1</td>\n",
       "      <td>...</td>\n",
       "      <td>-225.00</td>\n",
       "      <td>4.38</td>\n",
       "      <td>0.05</td>\n",
       "      <td>-0.22</td>\n",
       "      <td>1.19</td>\n",
       "      <td>0.41</td>\n",
       "      <td>-0.14</td>\n",
       "      <td>297.01</td>\n",
       "      <td>47.12</td>\n",
       "      <td>14.83</td>\n",
       "    </tr>\n",
       "  </tbody>\n",
       "</table>\n",
       "<p>9564 rows × 49 columns</p>\n",
       "</div>"
      ],
      "text/plain": [
       "         kepid kepoi_name   kepler_name koi_disposition koi_pdisposition  \\\n",
       "0     10797460  K00752.01  Kepler-227 b       CONFIRMED        CANDIDATE   \n",
       "1     10797460  K00752.02  Kepler-227 c       CONFIRMED        CANDIDATE   \n",
       "2     10811496  K00753.01           NaN       CANDIDATE        CANDIDATE   \n",
       "3     10848459  K00754.01           NaN  FALSE POSITIVE   FALSE POSITIVE   \n",
       "4     10854555  K00755.01  Kepler-664 b       CONFIRMED        CANDIDATE   \n",
       "...        ...        ...           ...             ...              ...   \n",
       "9559  10090151  K07985.01           NaN  FALSE POSITIVE   FALSE POSITIVE   \n",
       "9560  10128825  K07986.01           NaN       CANDIDATE        CANDIDATE   \n",
       "9561  10147276  K07987.01           NaN  FALSE POSITIVE   FALSE POSITIVE   \n",
       "9562  10155286  K07988.01           NaN       CANDIDATE        CANDIDATE   \n",
       "9563  10156110  K07989.01           NaN  FALSE POSITIVE   FALSE POSITIVE   \n",
       "\n",
       "      koi_score  koi_fpflag_nt  koi_fpflag_ss  koi_fpflag_co  koi_fpflag_ec  \\\n",
       "0          1.00              0              0              0              0   \n",
       "1          0.97              0              0              0              0   \n",
       "2          0.00              0              0              0              0   \n",
       "3          0.00              0              1              0              0   \n",
       "4          1.00              0              0              0              0   \n",
       "...         ...            ...            ...            ...            ...   \n",
       "9559       0.00              0              1              1              0   \n",
       "9560       0.50              0              0              0              0   \n",
       "9561       0.02              0              0              1              0   \n",
       "9562       0.09              0              0              0              0   \n",
       "9563       0.00              0              0              1              1   \n",
       "\n",
       "      ...  koi_steff_err2  koi_slogg  koi_slogg_err1  koi_slogg_err2  \\\n",
       "0     ...          -81.00       4.47            0.06           -0.10   \n",
       "1     ...          -81.00       4.47            0.06           -0.10   \n",
       "2     ...         -176.00       4.54            0.04           -0.18   \n",
       "3     ...         -174.00       4.56            0.05           -0.17   \n",
       "4     ...         -211.00       4.44            0.07           -0.21   \n",
       "...   ...             ...        ...             ...             ...   \n",
       "9559  ...         -166.00       4.53            0.04           -0.20   \n",
       "9560  ...         -220.00       4.44            0.06           -0.22   \n",
       "9561  ...         -236.00       4.45            0.06           -0.22   \n",
       "9562  ...         -128.00       2.99            0.03           -0.03   \n",
       "9563  ...         -225.00       4.38            0.05           -0.22   \n",
       "\n",
       "      koi_srad  koi_srad_err1  koi_srad_err2     ra   dec  koi_kepmag  \n",
       "0         0.93           0.10          -0.06 291.93 48.14       15.35  \n",
       "1         0.93           0.10          -0.06 291.93 48.14       15.35  \n",
       "2         0.87           0.23          -0.08 297.00 48.13       15.44  \n",
       "3         0.79           0.20          -0.07 285.53 48.29       15.60  \n",
       "4         1.05           0.33          -0.13 288.75 48.23       15.51  \n",
       "...        ...            ...            ...    ...   ...         ...  \n",
       "9559      0.90           0.24          -0.08 297.19 47.09       14.08  \n",
       "9560      1.03           0.34          -0.11 286.51 47.16       14.76  \n",
       "9561      1.04           0.34          -0.11 294.16 47.18       15.38  \n",
       "9562      7.82           0.22          -1.90 296.76 47.15       11.00  \n",
       "9563      1.19           0.41          -0.14 297.01 47.12       14.83  \n",
       "\n",
       "[9564 rows x 49 columns]"
      ]
     },
     "execution_count": 3,
     "metadata": {},
     "output_type": "execute_result"
    }
   ],
   "source": [
    "df = pd.read_csv('modified.csv')\n",
    "df"
   ]
  },
  {
   "cell_type": "code",
   "execution_count": 4,
   "id": "bbf64121-012d-45d8-99e9-0846425a4682",
   "metadata": {},
   "outputs": [
    {
     "data": {
      "text/plain": [
       "kepid                   0\n",
       "kepoi_name              0\n",
       "kepler_name          7204\n",
       "koi_disposition         0\n",
       "koi_pdisposition        0\n",
       "koi_score            1510\n",
       "koi_fpflag_nt           0\n",
       "koi_fpflag_ss           0\n",
       "koi_fpflag_co           0\n",
       "koi_fpflag_ec           0\n",
       "koi_period              0\n",
       "koi_period_err1       454\n",
       "koi_period_err2       454\n",
       "koi_time0bk             0\n",
       "koi_time0bk_err1      454\n",
       "koi_time0bk_err2      454\n",
       "koi_impact            363\n",
       "koi_impact_err1       454\n",
       "koi_impact_err2       454\n",
       "koi_duration            0\n",
       "koi_duration_err1     454\n",
       "koi_duration_err2     454\n",
       "koi_depth             363\n",
       "koi_depth_err1        454\n",
       "koi_depth_err2        454\n",
       "koi_prad              363\n",
       "koi_prad_err1         363\n",
       "koi_prad_err2         363\n",
       "koi_teq               363\n",
       "koi_teq_err1         9564\n",
       "koi_teq_err2         9564\n",
       "koi_insol             321\n",
       "koi_insol_err1        321\n",
       "koi_insol_err2        321\n",
       "koi_model_snr         363\n",
       "koi_tce_plnt_num      346\n",
       "koi_tce_delivname     346\n",
       "koi_steff             363\n",
       "koi_steff_err1        468\n",
       "koi_steff_err2        483\n",
       "koi_slogg             363\n",
       "koi_slogg_err1        468\n",
       "koi_slogg_err2        468\n",
       "koi_srad              363\n",
       "koi_srad_err1         468\n",
       "koi_srad_err2         468\n",
       "ra                      0\n",
       "dec                     0\n",
       "koi_kepmag              1\n",
       "dtype: int64"
      ]
     },
     "execution_count": 4,
     "metadata": {},
     "output_type": "execute_result"
    }
   ],
   "source": [
    "df.isna().sum()"
   ]
  },
  {
   "cell_type": "code",
   "execution_count": 5,
   "id": "fa03b943-581e-49f1-9d34-a845e5fd02b1",
   "metadata": {},
   "outputs": [
    {
     "data": {
      "text/plain": [
       "array(['CONFIRMED', 'CANDIDATE', 'FALSE POSITIVE'], dtype=object)"
      ]
     },
     "execution_count": 5,
     "metadata": {},
     "output_type": "execute_result"
    }
   ],
   "source": [
    "df['koi_disposition'].unique()\n",
    "#multi-class classification"
   ]
  },
  {
   "cell_type": "code",
   "execution_count": 6,
   "id": "8367a6bb-73e8-474e-8381-c24241a37069",
   "metadata": {},
   "outputs": [
    {
     "name": "stdout",
     "output_type": "stream",
     "text": [
      "<class 'pandas.core.frame.DataFrame'>\n",
      "RangeIndex: 9564 entries, 0 to 9563\n",
      "Data columns (total 49 columns):\n",
      " #   Column             Non-Null Count  Dtype  \n",
      "---  ------             --------------  -----  \n",
      " 0   kepid              9564 non-null   int64  \n",
      " 1   kepoi_name         9564 non-null   object \n",
      " 2   kepler_name        2360 non-null   object \n",
      " 3   koi_disposition    9564 non-null   object \n",
      " 4   koi_pdisposition   9564 non-null   object \n",
      " 5   koi_score          8054 non-null   float64\n",
      " 6   koi_fpflag_nt      9564 non-null   int64  \n",
      " 7   koi_fpflag_ss      9564 non-null   int64  \n",
      " 8   koi_fpflag_co      9564 non-null   int64  \n",
      " 9   koi_fpflag_ec      9564 non-null   int64  \n",
      " 10  koi_period         9564 non-null   float64\n",
      " 11  koi_period_err1    9110 non-null   float64\n",
      " 12  koi_period_err2    9110 non-null   float64\n",
      " 13  koi_time0bk        9564 non-null   float64\n",
      " 14  koi_time0bk_err1   9110 non-null   float64\n",
      " 15  koi_time0bk_err2   9110 non-null   float64\n",
      " 16  koi_impact         9201 non-null   float64\n",
      " 17  koi_impact_err1    9110 non-null   float64\n",
      " 18  koi_impact_err2    9110 non-null   float64\n",
      " 19  koi_duration       9564 non-null   float64\n",
      " 20  koi_duration_err1  9110 non-null   float64\n",
      " 21  koi_duration_err2  9110 non-null   float64\n",
      " 22  koi_depth          9201 non-null   float64\n",
      " 23  koi_depth_err1     9110 non-null   float64\n",
      " 24  koi_depth_err2     9110 non-null   float64\n",
      " 25  koi_prad           9201 non-null   float64\n",
      " 26  koi_prad_err1      9201 non-null   float64\n",
      " 27  koi_prad_err2      9201 non-null   float64\n",
      " 28  koi_teq            9201 non-null   float64\n",
      " 29  koi_teq_err1       0 non-null      float64\n",
      " 30  koi_teq_err2       0 non-null      float64\n",
      " 31  koi_insol          9243 non-null   float64\n",
      " 32  koi_insol_err1     9243 non-null   float64\n",
      " 33  koi_insol_err2     9243 non-null   float64\n",
      " 34  koi_model_snr      9201 non-null   float64\n",
      " 35  koi_tce_plnt_num   9218 non-null   float64\n",
      " 36  koi_tce_delivname  9218 non-null   object \n",
      " 37  koi_steff          9201 non-null   float64\n",
      " 38  koi_steff_err1     9096 non-null   float64\n",
      " 39  koi_steff_err2     9081 non-null   float64\n",
      " 40  koi_slogg          9201 non-null   float64\n",
      " 41  koi_slogg_err1     9096 non-null   float64\n",
      " 42  koi_slogg_err2     9096 non-null   float64\n",
      " 43  koi_srad           9201 non-null   float64\n",
      " 44  koi_srad_err1      9096 non-null   float64\n",
      " 45  koi_srad_err2      9096 non-null   float64\n",
      " 46  ra                 9564 non-null   float64\n",
      " 47  dec                9564 non-null   float64\n",
      " 48  koi_kepmag         9563 non-null   float64\n",
      "dtypes: float64(39), int64(5), object(5)\n",
      "memory usage: 3.6+ MB\n"
     ]
    }
   ],
   "source": [
    "df.info()"
   ]
  },
  {
   "cell_type": "code",
   "execution_count": 7,
   "id": "191de048-d019-45f5-ab60-7b53b091519b",
   "metadata": {},
   "outputs": [
    {
     "name": "stdout",
     "output_type": "stream",
     "text": [
      "Before =  49\n",
      "After =  47\n"
     ]
    }
   ],
   "source": [
    "# dropping columns with all/many null values\n",
    "print(\"Before = \",len(df.columns))\n",
    "df.drop(columns = ['koi_teq_err1','koi_teq_err2'],axis=1,inplace=True)\n",
    "print(\"After = \",len(df.columns))"
   ]
  },
  {
   "cell_type": "code",
   "execution_count": 8,
   "id": "30637545-8b85-494b-a758-0281180b1154",
   "metadata": {},
   "outputs": [
    {
     "data": {
      "text/plain": [
       "2361"
      ]
     },
     "execution_count": 8,
     "metadata": {},
     "output_type": "execute_result"
    }
   ],
   "source": [
    "len(df['kepler_name'].unique())"
   ]
  },
  {
   "cell_type": "markdown",
   "id": "06e361a5-9420-473a-b7e2-979a198fb987",
   "metadata": {},
   "source": [
    "## Dividing Dataset into X and y"
   ]
  },
  {
   "cell_type": "code",
   "execution_count": 9,
   "id": "2ab21c93-583d-4993-b9e1-35e916264bd2",
   "metadata": {},
   "outputs": [],
   "source": [
    "X = df.drop(columns = ['koi_disposition'],axis=1)\n",
    "y = df['koi_disposition']"
   ]
  },
  {
   "cell_type": "code",
   "execution_count": 10,
   "id": "a03fa981-c1b3-49cd-ba4d-4e4a51404e3e",
   "metadata": {},
   "outputs": [
    {
     "data": {
      "text/html": [
       "<div>\n",
       "<style scoped>\n",
       "    .dataframe tbody tr th:only-of-type {\n",
       "        vertical-align: middle;\n",
       "    }\n",
       "\n",
       "    .dataframe tbody tr th {\n",
       "        vertical-align: top;\n",
       "    }\n",
       "\n",
       "    .dataframe thead th {\n",
       "        text-align: right;\n",
       "    }\n",
       "</style>\n",
       "<table border=\"1\" class=\"dataframe\">\n",
       "  <thead>\n",
       "    <tr style=\"text-align: right;\">\n",
       "      <th></th>\n",
       "      <th>kepid</th>\n",
       "      <th>kepoi_name</th>\n",
       "      <th>kepler_name</th>\n",
       "      <th>koi_pdisposition</th>\n",
       "      <th>koi_score</th>\n",
       "      <th>koi_fpflag_nt</th>\n",
       "      <th>koi_fpflag_ss</th>\n",
       "      <th>koi_fpflag_co</th>\n",
       "      <th>koi_fpflag_ec</th>\n",
       "      <th>koi_period</th>\n",
       "      <th>...</th>\n",
       "      <th>koi_steff_err2</th>\n",
       "      <th>koi_slogg</th>\n",
       "      <th>koi_slogg_err1</th>\n",
       "      <th>koi_slogg_err2</th>\n",
       "      <th>koi_srad</th>\n",
       "      <th>koi_srad_err1</th>\n",
       "      <th>koi_srad_err2</th>\n",
       "      <th>ra</th>\n",
       "      <th>dec</th>\n",
       "      <th>koi_kepmag</th>\n",
       "    </tr>\n",
       "  </thead>\n",
       "  <tbody>\n",
       "    <tr>\n",
       "      <th>0</th>\n",
       "      <td>10797460</td>\n",
       "      <td>K00752.01</td>\n",
       "      <td>Kepler-227 b</td>\n",
       "      <td>CANDIDATE</td>\n",
       "      <td>1.00</td>\n",
       "      <td>0</td>\n",
       "      <td>0</td>\n",
       "      <td>0</td>\n",
       "      <td>0</td>\n",
       "      <td>9.49</td>\n",
       "      <td>...</td>\n",
       "      <td>-81.00</td>\n",
       "      <td>4.47</td>\n",
       "      <td>0.06</td>\n",
       "      <td>-0.10</td>\n",
       "      <td>0.93</td>\n",
       "      <td>0.10</td>\n",
       "      <td>-0.06</td>\n",
       "      <td>291.93</td>\n",
       "      <td>48.14</td>\n",
       "      <td>15.35</td>\n",
       "    </tr>\n",
       "    <tr>\n",
       "      <th>1</th>\n",
       "      <td>10797460</td>\n",
       "      <td>K00752.02</td>\n",
       "      <td>Kepler-227 c</td>\n",
       "      <td>CANDIDATE</td>\n",
       "      <td>0.97</td>\n",
       "      <td>0</td>\n",
       "      <td>0</td>\n",
       "      <td>0</td>\n",
       "      <td>0</td>\n",
       "      <td>54.42</td>\n",
       "      <td>...</td>\n",
       "      <td>-81.00</td>\n",
       "      <td>4.47</td>\n",
       "      <td>0.06</td>\n",
       "      <td>-0.10</td>\n",
       "      <td>0.93</td>\n",
       "      <td>0.10</td>\n",
       "      <td>-0.06</td>\n",
       "      <td>291.93</td>\n",
       "      <td>48.14</td>\n",
       "      <td>15.35</td>\n",
       "    </tr>\n",
       "    <tr>\n",
       "      <th>2</th>\n",
       "      <td>10811496</td>\n",
       "      <td>K00753.01</td>\n",
       "      <td>NaN</td>\n",
       "      <td>CANDIDATE</td>\n",
       "      <td>0.00</td>\n",
       "      <td>0</td>\n",
       "      <td>0</td>\n",
       "      <td>0</td>\n",
       "      <td>0</td>\n",
       "      <td>19.90</td>\n",
       "      <td>...</td>\n",
       "      <td>-176.00</td>\n",
       "      <td>4.54</td>\n",
       "      <td>0.04</td>\n",
       "      <td>-0.18</td>\n",
       "      <td>0.87</td>\n",
       "      <td>0.23</td>\n",
       "      <td>-0.08</td>\n",
       "      <td>297.00</td>\n",
       "      <td>48.13</td>\n",
       "      <td>15.44</td>\n",
       "    </tr>\n",
       "    <tr>\n",
       "      <th>3</th>\n",
       "      <td>10848459</td>\n",
       "      <td>K00754.01</td>\n",
       "      <td>NaN</td>\n",
       "      <td>FALSE POSITIVE</td>\n",
       "      <td>0.00</td>\n",
       "      <td>0</td>\n",
       "      <td>1</td>\n",
       "      <td>0</td>\n",
       "      <td>0</td>\n",
       "      <td>1.74</td>\n",
       "      <td>...</td>\n",
       "      <td>-174.00</td>\n",
       "      <td>4.56</td>\n",
       "      <td>0.05</td>\n",
       "      <td>-0.17</td>\n",
       "      <td>0.79</td>\n",
       "      <td>0.20</td>\n",
       "      <td>-0.07</td>\n",
       "      <td>285.53</td>\n",
       "      <td>48.29</td>\n",
       "      <td>15.60</td>\n",
       "    </tr>\n",
       "    <tr>\n",
       "      <th>4</th>\n",
       "      <td>10854555</td>\n",
       "      <td>K00755.01</td>\n",
       "      <td>Kepler-664 b</td>\n",
       "      <td>CANDIDATE</td>\n",
       "      <td>1.00</td>\n",
       "      <td>0</td>\n",
       "      <td>0</td>\n",
       "      <td>0</td>\n",
       "      <td>0</td>\n",
       "      <td>2.53</td>\n",
       "      <td>...</td>\n",
       "      <td>-211.00</td>\n",
       "      <td>4.44</td>\n",
       "      <td>0.07</td>\n",
       "      <td>-0.21</td>\n",
       "      <td>1.05</td>\n",
       "      <td>0.33</td>\n",
       "      <td>-0.13</td>\n",
       "      <td>288.75</td>\n",
       "      <td>48.23</td>\n",
       "      <td>15.51</td>\n",
       "    </tr>\n",
       "    <tr>\n",
       "      <th>...</th>\n",
       "      <td>...</td>\n",
       "      <td>...</td>\n",
       "      <td>...</td>\n",
       "      <td>...</td>\n",
       "      <td>...</td>\n",
       "      <td>...</td>\n",
       "      <td>...</td>\n",
       "      <td>...</td>\n",
       "      <td>...</td>\n",
       "      <td>...</td>\n",
       "      <td>...</td>\n",
       "      <td>...</td>\n",
       "      <td>...</td>\n",
       "      <td>...</td>\n",
       "      <td>...</td>\n",
       "      <td>...</td>\n",
       "      <td>...</td>\n",
       "      <td>...</td>\n",
       "      <td>...</td>\n",
       "      <td>...</td>\n",
       "      <td>...</td>\n",
       "    </tr>\n",
       "    <tr>\n",
       "      <th>9559</th>\n",
       "      <td>10090151</td>\n",
       "      <td>K07985.01</td>\n",
       "      <td>NaN</td>\n",
       "      <td>FALSE POSITIVE</td>\n",
       "      <td>0.00</td>\n",
       "      <td>0</td>\n",
       "      <td>1</td>\n",
       "      <td>1</td>\n",
       "      <td>0</td>\n",
       "      <td>0.53</td>\n",
       "      <td>...</td>\n",
       "      <td>-166.00</td>\n",
       "      <td>4.53</td>\n",
       "      <td>0.04</td>\n",
       "      <td>-0.20</td>\n",
       "      <td>0.90</td>\n",
       "      <td>0.24</td>\n",
       "      <td>-0.08</td>\n",
       "      <td>297.19</td>\n",
       "      <td>47.09</td>\n",
       "      <td>14.08</td>\n",
       "    </tr>\n",
       "    <tr>\n",
       "      <th>9560</th>\n",
       "      <td>10128825</td>\n",
       "      <td>K07986.01</td>\n",
       "      <td>NaN</td>\n",
       "      <td>CANDIDATE</td>\n",
       "      <td>0.50</td>\n",
       "      <td>0</td>\n",
       "      <td>0</td>\n",
       "      <td>0</td>\n",
       "      <td>0</td>\n",
       "      <td>1.74</td>\n",
       "      <td>...</td>\n",
       "      <td>-220.00</td>\n",
       "      <td>4.44</td>\n",
       "      <td>0.06</td>\n",
       "      <td>-0.22</td>\n",
       "      <td>1.03</td>\n",
       "      <td>0.34</td>\n",
       "      <td>-0.11</td>\n",
       "      <td>286.51</td>\n",
       "      <td>47.16</td>\n",
       "      <td>14.76</td>\n",
       "    </tr>\n",
       "    <tr>\n",
       "      <th>9561</th>\n",
       "      <td>10147276</td>\n",
       "      <td>K07987.01</td>\n",
       "      <td>NaN</td>\n",
       "      <td>FALSE POSITIVE</td>\n",
       "      <td>0.02</td>\n",
       "      <td>0</td>\n",
       "      <td>0</td>\n",
       "      <td>1</td>\n",
       "      <td>0</td>\n",
       "      <td>0.68</td>\n",
       "      <td>...</td>\n",
       "      <td>-236.00</td>\n",
       "      <td>4.45</td>\n",
       "      <td>0.06</td>\n",
       "      <td>-0.22</td>\n",
       "      <td>1.04</td>\n",
       "      <td>0.34</td>\n",
       "      <td>-0.11</td>\n",
       "      <td>294.16</td>\n",
       "      <td>47.18</td>\n",
       "      <td>15.38</td>\n",
       "    </tr>\n",
       "    <tr>\n",
       "      <th>9562</th>\n",
       "      <td>10155286</td>\n",
       "      <td>K07988.01</td>\n",
       "      <td>NaN</td>\n",
       "      <td>CANDIDATE</td>\n",
       "      <td>0.09</td>\n",
       "      <td>0</td>\n",
       "      <td>0</td>\n",
       "      <td>0</td>\n",
       "      <td>0</td>\n",
       "      <td>333.49</td>\n",
       "      <td>...</td>\n",
       "      <td>-128.00</td>\n",
       "      <td>2.99</td>\n",
       "      <td>0.03</td>\n",
       "      <td>-0.03</td>\n",
       "      <td>7.82</td>\n",
       "      <td>0.22</td>\n",
       "      <td>-1.90</td>\n",
       "      <td>296.76</td>\n",
       "      <td>47.15</td>\n",
       "      <td>11.00</td>\n",
       "    </tr>\n",
       "    <tr>\n",
       "      <th>9563</th>\n",
       "      <td>10156110</td>\n",
       "      <td>K07989.01</td>\n",
       "      <td>NaN</td>\n",
       "      <td>FALSE POSITIVE</td>\n",
       "      <td>0.00</td>\n",
       "      <td>0</td>\n",
       "      <td>0</td>\n",
       "      <td>1</td>\n",
       "      <td>1</td>\n",
       "      <td>4.86</td>\n",
       "      <td>...</td>\n",
       "      <td>-225.00</td>\n",
       "      <td>4.38</td>\n",
       "      <td>0.05</td>\n",
       "      <td>-0.22</td>\n",
       "      <td>1.19</td>\n",
       "      <td>0.41</td>\n",
       "      <td>-0.14</td>\n",
       "      <td>297.01</td>\n",
       "      <td>47.12</td>\n",
       "      <td>14.83</td>\n",
       "    </tr>\n",
       "  </tbody>\n",
       "</table>\n",
       "<p>9564 rows × 46 columns</p>\n",
       "</div>"
      ],
      "text/plain": [
       "         kepid kepoi_name   kepler_name koi_pdisposition  koi_score  \\\n",
       "0     10797460  K00752.01  Kepler-227 b        CANDIDATE       1.00   \n",
       "1     10797460  K00752.02  Kepler-227 c        CANDIDATE       0.97   \n",
       "2     10811496  K00753.01           NaN        CANDIDATE       0.00   \n",
       "3     10848459  K00754.01           NaN   FALSE POSITIVE       0.00   \n",
       "4     10854555  K00755.01  Kepler-664 b        CANDIDATE       1.00   \n",
       "...        ...        ...           ...              ...        ...   \n",
       "9559  10090151  K07985.01           NaN   FALSE POSITIVE       0.00   \n",
       "9560  10128825  K07986.01           NaN        CANDIDATE       0.50   \n",
       "9561  10147276  K07987.01           NaN   FALSE POSITIVE       0.02   \n",
       "9562  10155286  K07988.01           NaN        CANDIDATE       0.09   \n",
       "9563  10156110  K07989.01           NaN   FALSE POSITIVE       0.00   \n",
       "\n",
       "      koi_fpflag_nt  koi_fpflag_ss  koi_fpflag_co  koi_fpflag_ec  koi_period  \\\n",
       "0                 0              0              0              0        9.49   \n",
       "1                 0              0              0              0       54.42   \n",
       "2                 0              0              0              0       19.90   \n",
       "3                 0              1              0              0        1.74   \n",
       "4                 0              0              0              0        2.53   \n",
       "...             ...            ...            ...            ...         ...   \n",
       "9559              0              1              1              0        0.53   \n",
       "9560              0              0              0              0        1.74   \n",
       "9561              0              0              1              0        0.68   \n",
       "9562              0              0              0              0      333.49   \n",
       "9563              0              0              1              1        4.86   \n",
       "\n",
       "      ...  koi_steff_err2  koi_slogg  koi_slogg_err1  koi_slogg_err2  \\\n",
       "0     ...          -81.00       4.47            0.06           -0.10   \n",
       "1     ...          -81.00       4.47            0.06           -0.10   \n",
       "2     ...         -176.00       4.54            0.04           -0.18   \n",
       "3     ...         -174.00       4.56            0.05           -0.17   \n",
       "4     ...         -211.00       4.44            0.07           -0.21   \n",
       "...   ...             ...        ...             ...             ...   \n",
       "9559  ...         -166.00       4.53            0.04           -0.20   \n",
       "9560  ...         -220.00       4.44            0.06           -0.22   \n",
       "9561  ...         -236.00       4.45            0.06           -0.22   \n",
       "9562  ...         -128.00       2.99            0.03           -0.03   \n",
       "9563  ...         -225.00       4.38            0.05           -0.22   \n",
       "\n",
       "      koi_srad  koi_srad_err1  koi_srad_err2     ra   dec  koi_kepmag  \n",
       "0         0.93           0.10          -0.06 291.93 48.14       15.35  \n",
       "1         0.93           0.10          -0.06 291.93 48.14       15.35  \n",
       "2         0.87           0.23          -0.08 297.00 48.13       15.44  \n",
       "3         0.79           0.20          -0.07 285.53 48.29       15.60  \n",
       "4         1.05           0.33          -0.13 288.75 48.23       15.51  \n",
       "...        ...            ...            ...    ...   ...         ...  \n",
       "9559      0.90           0.24          -0.08 297.19 47.09       14.08  \n",
       "9560      1.03           0.34          -0.11 286.51 47.16       14.76  \n",
       "9561      1.04           0.34          -0.11 294.16 47.18       15.38  \n",
       "9562      7.82           0.22          -1.90 296.76 47.15       11.00  \n",
       "9563      1.19           0.41          -0.14 297.01 47.12       14.83  \n",
       "\n",
       "[9564 rows x 46 columns]"
      ]
     },
     "execution_count": 10,
     "metadata": {},
     "output_type": "execute_result"
    }
   ],
   "source": [
    "X"
   ]
  },
  {
   "cell_type": "code",
   "execution_count": 11,
   "id": "ed14db3a-00b7-45fa-88d2-e47380b2264b",
   "metadata": {},
   "outputs": [
    {
     "data": {
      "text/plain": [
       "0            CONFIRMED\n",
       "1            CONFIRMED\n",
       "2            CANDIDATE\n",
       "3       FALSE POSITIVE\n",
       "4            CONFIRMED\n",
       "             ...      \n",
       "9559    FALSE POSITIVE\n",
       "9560         CANDIDATE\n",
       "9561    FALSE POSITIVE\n",
       "9562         CANDIDATE\n",
       "9563    FALSE POSITIVE\n",
       "Name: koi_disposition, Length: 9564, dtype: object"
      ]
     },
     "execution_count": 11,
     "metadata": {},
     "output_type": "execute_result"
    }
   ],
   "source": [
    "y"
   ]
  },
  {
   "cell_type": "markdown",
   "id": "34ced3ba-67db-4360-8c74-1d2a64af1925",
   "metadata": {},
   "source": [
    "### Checking Imbalanced Dataset"
   ]
  },
  {
   "cell_type": "code",
   "execution_count": 12,
   "id": "f7c87da7-79af-4b46-a7b3-f11205b3cf24",
   "metadata": {},
   "outputs": [
    {
     "data": {
      "text/plain": [
       "FALSE POSITIVE    4840\n",
       "CANDIDATE         2366\n",
       "CONFIRMED         2358\n",
       "Name: koi_disposition, dtype: int64"
      ]
     },
     "execution_count": 12,
     "metadata": {},
     "output_type": "execute_result"
    }
   ],
   "source": [
    "y.value_counts()"
   ]
  },
  {
   "cell_type": "markdown",
   "id": "bd7345b5-143c-4d4c-83f6-1f796f08b141",
   "metadata": {},
   "source": [
    "### Duplicate Rows/Columns"
   ]
  },
  {
   "cell_type": "code",
   "execution_count": 13,
   "id": "a0027c69-1016-4642-90ec-4ad690a80450",
   "metadata": {},
   "outputs": [
    {
     "data": {
      "text/plain": [
       "0"
      ]
     },
     "execution_count": 13,
     "metadata": {},
     "output_type": "execute_result"
    }
   ],
   "source": [
    "X.duplicated().sum()"
   ]
  },
  {
   "cell_type": "code",
   "execution_count": 14,
   "id": "b2676ef0-2f8b-4da9-87aa-09bee757dbf8",
   "metadata": {},
   "outputs": [
    {
     "data": {
      "text/plain": [
       "0"
      ]
     },
     "execution_count": 14,
     "metadata": {},
     "output_type": "execute_result"
    }
   ],
   "source": [
    "X.T.duplicated().sum()"
   ]
  },
  {
   "cell_type": "markdown",
   "id": "865c8cc7-16ee-46fc-9b25-69c36c3cde20",
   "metadata": {},
   "source": [
    "### Constant/Quasi-Constant Features"
   ]
  },
  {
   "cell_type": "code",
   "execution_count": 15,
   "id": "fc264e93-cdb1-40b0-9735-cb6e68d96516",
   "metadata": {},
   "outputs": [
    {
     "data": {
      "text/html": [
       "<div>\n",
       "<style scoped>\n",
       "    .dataframe tbody tr th:only-of-type {\n",
       "        vertical-align: middle;\n",
       "    }\n",
       "\n",
       "    .dataframe tbody tr th {\n",
       "        vertical-align: top;\n",
       "    }\n",
       "\n",
       "    .dataframe thead th {\n",
       "        text-align: right;\n",
       "    }\n",
       "</style>\n",
       "<table border=\"1\" class=\"dataframe\">\n",
       "  <thead>\n",
       "    <tr style=\"text-align: right;\">\n",
       "      <th></th>\n",
       "      <th>Desc</th>\n",
       "      <th>Var</th>\n",
       "      <th>Value</th>\n",
       "      <th>Perc</th>\n",
       "    </tr>\n",
       "  </thead>\n",
       "  <tbody>\n",
       "  </tbody>\n",
       "</table>\n",
       "</div>"
      ],
      "text/plain": [
       "Empty DataFrame\n",
       "Columns: [Desc, Var, Value, Perc]\n",
       "Index: []"
      ]
     },
     "execution_count": 15,
     "metadata": {},
     "output_type": "execute_result"
    }
   ],
   "source": [
    "get_constant_features(X)"
   ]
  },
  {
   "cell_type": "markdown",
   "id": "d734ace0-efa2-4f15-ab81-574b4ab297f5",
   "metadata": {},
   "source": [
    "## Filling the Null values in Categorical Columns"
   ]
  },
  {
   "cell_type": "code",
   "execution_count": 16,
   "id": "949a5f28-dfd7-456a-bf0d-e419961cb5ae",
   "metadata": {},
   "outputs": [
    {
     "data": {
      "text/plain": [
       "kepoi_name           object\n",
       "kepler_name          object\n",
       "koi_pdisposition     object\n",
       "koi_tce_delivname    object\n",
       "dtype: object"
      ]
     },
     "execution_count": 16,
     "metadata": {},
     "output_type": "execute_result"
    }
   ],
   "source": [
    "X.dtypes[df.dtypes=='object']"
   ]
  },
  {
   "cell_type": "code",
   "execution_count": 17,
   "id": "e8ad4077-14bd-4b15-b80d-b766b7d03971",
   "metadata": {},
   "outputs": [
    {
     "data": {
      "text/plain": [
       "kepoi_name              0\n",
       "kepler_name          7204\n",
       "koi_pdisposition        0\n",
       "koi_tce_delivname     346\n",
       "dtype: int64"
      ]
     },
     "execution_count": 17,
     "metadata": {},
     "output_type": "execute_result"
    }
   ],
   "source": [
    "X[['kepoi_name','kepler_name','koi_pdisposition','koi_tce_delivname']].isna().sum()"
   ]
  },
  {
   "cell_type": "code",
   "execution_count": 18,
   "id": "c72e95da-be91-4a6a-870c-b3b609404b83",
   "metadata": {},
   "outputs": [],
   "source": [
    "X['kepler_name'].fillna(value='unknown',inplace=True)"
   ]
  },
  {
   "cell_type": "code",
   "execution_count": 19,
   "id": "e46be1c9-7007-4f15-afe7-8cfa2f507c90",
   "metadata": {},
   "outputs": [
    {
     "data": {
      "text/plain": [
       "q1_q17_dr25_tce    8054\n",
       "q1_q16_tce          796\n",
       "q1_q17_dr24_tce     368\n",
       "Name: koi_tce_delivname, dtype: int64"
      ]
     },
     "execution_count": 19,
     "metadata": {},
     "output_type": "execute_result"
    }
   ],
   "source": [
    "X['koi_tce_delivname'].value_counts()"
   ]
  },
  {
   "cell_type": "code",
   "execution_count": 20,
   "id": "6552560c-ed89-49e0-82ab-e77398c06130",
   "metadata": {},
   "outputs": [],
   "source": [
    "X['koi_tce_delivname'].fillna(X['koi_tce_delivname'].mode()[0], inplace=True)"
   ]
  },
  {
   "cell_type": "code",
   "execution_count": 21,
   "id": "a96cc554-ee3b-467a-92fe-4a39258d6fe5",
   "metadata": {},
   "outputs": [
    {
     "data": {
      "text/plain": [
       "kepoi_name           0\n",
       "kepler_name          0\n",
       "koi_pdisposition     0\n",
       "koi_tce_delivname    0\n",
       "dtype: int64"
      ]
     },
     "execution_count": 21,
     "metadata": {},
     "output_type": "execute_result"
    }
   ],
   "source": [
    "X[['kepoi_name','kepler_name','koi_pdisposition','koi_tce_delivname']].isna().sum()"
   ]
  },
  {
   "cell_type": "code",
   "execution_count": 22,
   "id": "b1d84856-a1a6-4c81-a1aa-ad8707d99aa6",
   "metadata": {},
   "outputs": [
    {
     "name": "stdout",
     "output_type": "stream",
     "text": [
      "<class 'pandas.core.frame.DataFrame'>\n",
      "RangeIndex: 9564 entries, 0 to 9563\n",
      "Data columns (total 46 columns):\n",
      " #   Column             Non-Null Count  Dtype  \n",
      "---  ------             --------------  -----  \n",
      " 0   kepid              9564 non-null   int64  \n",
      " 1   kepoi_name         9564 non-null   object \n",
      " 2   kepler_name        9564 non-null   object \n",
      " 3   koi_pdisposition   9564 non-null   object \n",
      " 4   koi_score          8054 non-null   float64\n",
      " 5   koi_fpflag_nt      9564 non-null   int64  \n",
      " 6   koi_fpflag_ss      9564 non-null   int64  \n",
      " 7   koi_fpflag_co      9564 non-null   int64  \n",
      " 8   koi_fpflag_ec      9564 non-null   int64  \n",
      " 9   koi_period         9564 non-null   float64\n",
      " 10  koi_period_err1    9110 non-null   float64\n",
      " 11  koi_period_err2    9110 non-null   float64\n",
      " 12  koi_time0bk        9564 non-null   float64\n",
      " 13  koi_time0bk_err1   9110 non-null   float64\n",
      " 14  koi_time0bk_err2   9110 non-null   float64\n",
      " 15  koi_impact         9201 non-null   float64\n",
      " 16  koi_impact_err1    9110 non-null   float64\n",
      " 17  koi_impact_err2    9110 non-null   float64\n",
      " 18  koi_duration       9564 non-null   float64\n",
      " 19  koi_duration_err1  9110 non-null   float64\n",
      " 20  koi_duration_err2  9110 non-null   float64\n",
      " 21  koi_depth          9201 non-null   float64\n",
      " 22  koi_depth_err1     9110 non-null   float64\n",
      " 23  koi_depth_err2     9110 non-null   float64\n",
      " 24  koi_prad           9201 non-null   float64\n",
      " 25  koi_prad_err1      9201 non-null   float64\n",
      " 26  koi_prad_err2      9201 non-null   float64\n",
      " 27  koi_teq            9201 non-null   float64\n",
      " 28  koi_insol          9243 non-null   float64\n",
      " 29  koi_insol_err1     9243 non-null   float64\n",
      " 30  koi_insol_err2     9243 non-null   float64\n",
      " 31  koi_model_snr      9201 non-null   float64\n",
      " 32  koi_tce_plnt_num   9218 non-null   float64\n",
      " 33  koi_tce_delivname  9564 non-null   object \n",
      " 34  koi_steff          9201 non-null   float64\n",
      " 35  koi_steff_err1     9096 non-null   float64\n",
      " 36  koi_steff_err2     9081 non-null   float64\n",
      " 37  koi_slogg          9201 non-null   float64\n",
      " 38  koi_slogg_err1     9096 non-null   float64\n",
      " 39  koi_slogg_err2     9096 non-null   float64\n",
      " 40  koi_srad           9201 non-null   float64\n",
      " 41  koi_srad_err1      9096 non-null   float64\n",
      " 42  koi_srad_err2      9096 non-null   float64\n",
      " 43  ra                 9564 non-null   float64\n",
      " 44  dec                9564 non-null   float64\n",
      " 45  koi_kepmag         9563 non-null   float64\n",
      "dtypes: float64(37), int64(5), object(4)\n",
      "memory usage: 3.4+ MB\n"
     ]
    }
   ],
   "source": [
    "X.info()"
   ]
  },
  {
   "cell_type": "markdown",
   "id": "c6187542-8331-49a1-b006-7a4b18bf2c3c",
   "metadata": {},
   "source": [
    "## Imputing Null values of Numerical Variables"
   ]
  },
  {
   "cell_type": "code",
   "execution_count": 23,
   "id": "93a8910d-33e2-4adc-a1ad-01c2666cc659",
   "metadata": {},
   "outputs": [
    {
     "data": {
      "text/plain": [
       "kepid                  int64\n",
       "koi_score            float64\n",
       "koi_fpflag_nt          int64\n",
       "koi_fpflag_ss          int64\n",
       "koi_fpflag_co          int64\n",
       "koi_fpflag_ec          int64\n",
       "koi_period           float64\n",
       "koi_period_err1      float64\n",
       "koi_period_err2      float64\n",
       "koi_time0bk          float64\n",
       "koi_time0bk_err1     float64\n",
       "koi_time0bk_err2     float64\n",
       "koi_impact           float64\n",
       "koi_impact_err1      float64\n",
       "koi_impact_err2      float64\n",
       "koi_duration         float64\n",
       "koi_duration_err1    float64\n",
       "koi_duration_err2    float64\n",
       "koi_depth            float64\n",
       "koi_depth_err1       float64\n",
       "koi_depth_err2       float64\n",
       "koi_prad             float64\n",
       "koi_prad_err1        float64\n",
       "koi_prad_err2        float64\n",
       "koi_teq              float64\n",
       "koi_insol            float64\n",
       "koi_insol_err1       float64\n",
       "koi_insol_err2       float64\n",
       "koi_model_snr        float64\n",
       "koi_tce_plnt_num     float64\n",
       "koi_steff            float64\n",
       "koi_steff_err1       float64\n",
       "koi_steff_err2       float64\n",
       "koi_slogg            float64\n",
       "koi_slogg_err1       float64\n",
       "koi_slogg_err2       float64\n",
       "koi_srad             float64\n",
       "koi_srad_err1        float64\n",
       "koi_srad_err2        float64\n",
       "ra                   float64\n",
       "dec                  float64\n",
       "koi_kepmag           float64\n",
       "dtype: object"
      ]
     },
     "execution_count": 23,
     "metadata": {},
     "output_type": "execute_result"
    }
   ],
   "source": [
    "X.dtypes[X.dtypes!='object']"
   ]
  },
  {
   "cell_type": "code",
   "execution_count": 24,
   "id": "3077b9c4-03b1-4af5-ab61-10e47a7809f2",
   "metadata": {},
   "outputs": [],
   "source": [
    "cols = ['kepoi_name','kepler_name','koi_pdisposition','koi_tce_delivname']\n",
    "numerical = X.drop(columns = cols)\n",
    "num_cols = numerical.columns"
   ]
  },
  {
   "cell_type": "code",
   "execution_count": 25,
   "id": "9427c488-6def-484c-9dcf-44b9dad95c58",
   "metadata": {},
   "outputs": [
    {
     "data": {
      "text/plain": [
       "Index(['kepid', 'koi_score', 'koi_fpflag_nt', 'koi_fpflag_ss', 'koi_fpflag_co',\n",
       "       'koi_fpflag_ec', 'koi_period', 'koi_period_err1', 'koi_period_err2',\n",
       "       'koi_time0bk', 'koi_time0bk_err1', 'koi_time0bk_err2', 'koi_impact',\n",
       "       'koi_impact_err1', 'koi_impact_err2', 'koi_duration',\n",
       "       'koi_duration_err1', 'koi_duration_err2', 'koi_depth', 'koi_depth_err1',\n",
       "       'koi_depth_err2', 'koi_prad', 'koi_prad_err1', 'koi_prad_err2',\n",
       "       'koi_teq', 'koi_insol', 'koi_insol_err1', 'koi_insol_err2',\n",
       "       'koi_model_snr', 'koi_tce_plnt_num', 'koi_steff', 'koi_steff_err1',\n",
       "       'koi_steff_err2', 'koi_slogg', 'koi_slogg_err1', 'koi_slogg_err2',\n",
       "       'koi_srad', 'koi_srad_err1', 'koi_srad_err2', 'ra', 'dec',\n",
       "       'koi_kepmag'],\n",
       "      dtype='object')"
      ]
     },
     "execution_count": 25,
     "metadata": {},
     "output_type": "execute_result"
    }
   ],
   "source": [
    "num_cols"
   ]
  },
  {
   "cell_type": "code",
   "execution_count": 26,
   "id": "b365a14a-4aab-47ec-b6a7-940f30a972f4",
   "metadata": {},
   "outputs": [],
   "source": [
    "imputer = KNNImputer(n_neighbors=10,weights='distance')"
   ]
  },
  {
   "cell_type": "code",
   "execution_count": 27,
   "id": "004406ad-991a-407d-9de4-8c0c22e917b9",
   "metadata": {},
   "outputs": [],
   "source": [
    "X[num_cols] = imputer.fit_transform(X[num_cols])"
   ]
  },
  {
   "cell_type": "code",
   "execution_count": 28,
   "id": "e5de0d80-da8d-467f-b2e9-c9fe68cd9151",
   "metadata": {},
   "outputs": [
    {
     "data": {
      "text/plain": [
       "kepid                0\n",
       "kepoi_name           0\n",
       "kepler_name          0\n",
       "koi_pdisposition     0\n",
       "koi_score            0\n",
       "koi_fpflag_nt        0\n",
       "koi_fpflag_ss        0\n",
       "koi_fpflag_co        0\n",
       "koi_fpflag_ec        0\n",
       "koi_period           0\n",
       "koi_period_err1      0\n",
       "koi_period_err2      0\n",
       "koi_time0bk          0\n",
       "koi_time0bk_err1     0\n",
       "koi_time0bk_err2     0\n",
       "koi_impact           0\n",
       "koi_impact_err1      0\n",
       "koi_impact_err2      0\n",
       "koi_duration         0\n",
       "koi_duration_err1    0\n",
       "koi_duration_err2    0\n",
       "koi_depth            0\n",
       "koi_depth_err1       0\n",
       "koi_depth_err2       0\n",
       "koi_prad             0\n",
       "koi_prad_err1        0\n",
       "koi_prad_err2        0\n",
       "koi_teq              0\n",
       "koi_insol            0\n",
       "koi_insol_err1       0\n",
       "koi_insol_err2       0\n",
       "koi_model_snr        0\n",
       "koi_tce_plnt_num     0\n",
       "koi_tce_delivname    0\n",
       "koi_steff            0\n",
       "koi_steff_err1       0\n",
       "koi_steff_err2       0\n",
       "koi_slogg            0\n",
       "koi_slogg_err1       0\n",
       "koi_slogg_err2       0\n",
       "koi_srad             0\n",
       "koi_srad_err1        0\n",
       "koi_srad_err2        0\n",
       "ra                   0\n",
       "dec                  0\n",
       "koi_kepmag           0\n",
       "dtype: int64"
      ]
     },
     "execution_count": 28,
     "metadata": {},
     "output_type": "execute_result"
    }
   ],
   "source": [
    "X.isna().sum()"
   ]
  },
  {
   "cell_type": "markdown",
   "id": "8b3d665d-1ac7-4f18-b64d-d343eeb8c537",
   "metadata": {},
   "source": [
    "## Encoding Categorical Variables"
   ]
  },
  {
   "cell_type": "code",
   "execution_count": 29,
   "id": "20c20762-1f36-4c00-add3-8615b27997f5",
   "metadata": {},
   "outputs": [
    {
     "data": {
      "text/plain": [
       "kepoi_name           object\n",
       "kepler_name          object\n",
       "koi_pdisposition     object\n",
       "koi_tce_delivname    object\n",
       "dtype: object"
      ]
     },
     "execution_count": 29,
     "metadata": {},
     "output_type": "execute_result"
    }
   ],
   "source": [
    "X.dtypes[X.dtypes=='object']"
   ]
  },
  {
   "cell_type": "code",
   "execution_count": 30,
   "id": "1eb08e41-2a44-41e8-898b-d5cdbf3dc895",
   "metadata": {},
   "outputs": [
    {
     "data": {
      "text/plain": [
       "9564"
      ]
     },
     "execution_count": 30,
     "metadata": {},
     "output_type": "execute_result"
    }
   ],
   "source": [
    "X['kepoi_name'].nunique() #binary encoding"
   ]
  },
  {
   "cell_type": "code",
   "execution_count": 31,
   "id": "6896f4df-452b-4a02-b79a-57acb188fa21",
   "metadata": {},
   "outputs": [
    {
     "data": {
      "text/plain": [
       "2361"
      ]
     },
     "execution_count": 31,
     "metadata": {},
     "output_type": "execute_result"
    }
   ],
   "source": [
    "X['kepler_name'].nunique() # label encoding"
   ]
  },
  {
   "cell_type": "code",
   "execution_count": 32,
   "id": "90535dc4-4d37-4505-a1ab-e5ae4b77bd03",
   "metadata": {},
   "outputs": [
    {
     "data": {
      "text/plain": [
       "2"
      ]
     },
     "execution_count": 32,
     "metadata": {},
     "output_type": "execute_result"
    }
   ],
   "source": [
    "X['koi_pdisposition'].nunique() #one-hot encoding"
   ]
  },
  {
   "cell_type": "code",
   "execution_count": 33,
   "id": "1fe1d50f-723b-4727-9167-6328c4ac727c",
   "metadata": {},
   "outputs": [
    {
     "data": {
      "text/plain": [
       "3"
      ]
     },
     "execution_count": 33,
     "metadata": {},
     "output_type": "execute_result"
    }
   ],
   "source": [
    "X['koi_tce_delivname'].nunique() #one-hot encoding"
   ]
  },
  {
   "cell_type": "code",
   "execution_count": 34,
   "id": "de6e6365-a302-4e79-ae56-f6793a47e5dd",
   "metadata": {},
   "outputs": [],
   "source": [
    "X['kepoi_name'] = LabelEncoder().fit_transform(X['kepoi_name'])\n",
    "\n",
    "X['kepler_name'] = LabelEncoder().fit_transform(X['kepler_name'])\n",
    "\n",
    "X['False Positive'] = pd.get_dummies(X['koi_pdisposition'],drop_first=True)\n",
    "\n",
    "X[['q1_q17_dr24_tce', 'q1_q17_dr25_tce']] = pd.get_dummies(X['koi_tce_delivname'],drop_first=True)\n",
    "\n",
    "\n",
    "X.drop(columns = ['koi_pdisposition','koi_tce_delivname'],axis=1,inplace=True)"
   ]
  },
  {
   "cell_type": "code",
   "execution_count": 35,
   "id": "e9e6d5e9-2470-476a-9362-cc80cdd7ea2a",
   "metadata": {},
   "outputs": [
    {
     "data": {
      "text/html": [
       "<div>\n",
       "<style scoped>\n",
       "    .dataframe tbody tr th:only-of-type {\n",
       "        vertical-align: middle;\n",
       "    }\n",
       "\n",
       "    .dataframe tbody tr th {\n",
       "        vertical-align: top;\n",
       "    }\n",
       "\n",
       "    .dataframe thead th {\n",
       "        text-align: right;\n",
       "    }\n",
       "</style>\n",
       "<table border=\"1\" class=\"dataframe\">\n",
       "  <thead>\n",
       "    <tr style=\"text-align: right;\">\n",
       "      <th></th>\n",
       "      <th>kepid</th>\n",
       "      <th>kepoi_name</th>\n",
       "      <th>kepler_name</th>\n",
       "      <th>koi_score</th>\n",
       "      <th>koi_fpflag_nt</th>\n",
       "      <th>koi_fpflag_ss</th>\n",
       "      <th>koi_fpflag_co</th>\n",
       "      <th>koi_fpflag_ec</th>\n",
       "      <th>koi_period</th>\n",
       "      <th>koi_period_err1</th>\n",
       "      <th>...</th>\n",
       "      <th>koi_slogg_err2</th>\n",
       "      <th>koi_srad</th>\n",
       "      <th>koi_srad_err1</th>\n",
       "      <th>koi_srad_err2</th>\n",
       "      <th>ra</th>\n",
       "      <th>dec</th>\n",
       "      <th>koi_kepmag</th>\n",
       "      <th>False Positive</th>\n",
       "      <th>q1_q17_dr24_tce</th>\n",
       "      <th>q1_q17_dr25_tce</th>\n",
       "    </tr>\n",
       "  </thead>\n",
       "  <tbody>\n",
       "    <tr>\n",
       "      <th>0</th>\n",
       "      <td>10797460.00</td>\n",
       "      <td>1080</td>\n",
       "      <td>1090</td>\n",
       "      <td>1.00</td>\n",
       "      <td>0.00</td>\n",
       "      <td>0.00</td>\n",
       "      <td>0.00</td>\n",
       "      <td>0.00</td>\n",
       "      <td>9.49</td>\n",
       "      <td>0.00</td>\n",
       "      <td>...</td>\n",
       "      <td>-0.10</td>\n",
       "      <td>0.93</td>\n",
       "      <td>0.10</td>\n",
       "      <td>-0.06</td>\n",
       "      <td>291.93</td>\n",
       "      <td>48.14</td>\n",
       "      <td>15.35</td>\n",
       "      <td>0</td>\n",
       "      <td>0</td>\n",
       "      <td>1</td>\n",
       "    </tr>\n",
       "    <tr>\n",
       "      <th>1</th>\n",
       "      <td>10797460.00</td>\n",
       "      <td>1081</td>\n",
       "      <td>1091</td>\n",
       "      <td>0.97</td>\n",
       "      <td>0.00</td>\n",
       "      <td>0.00</td>\n",
       "      <td>0.00</td>\n",
       "      <td>0.00</td>\n",
       "      <td>54.42</td>\n",
       "      <td>0.00</td>\n",
       "      <td>...</td>\n",
       "      <td>-0.10</td>\n",
       "      <td>0.93</td>\n",
       "      <td>0.10</td>\n",
       "      <td>-0.06</td>\n",
       "      <td>291.93</td>\n",
       "      <td>48.14</td>\n",
       "      <td>15.35</td>\n",
       "      <td>0</td>\n",
       "      <td>0</td>\n",
       "      <td>1</td>\n",
       "    </tr>\n",
       "    <tr>\n",
       "      <th>2</th>\n",
       "      <td>10811496.00</td>\n",
       "      <td>1082</td>\n",
       "      <td>2360</td>\n",
       "      <td>0.00</td>\n",
       "      <td>0.00</td>\n",
       "      <td>0.00</td>\n",
       "      <td>0.00</td>\n",
       "      <td>0.00</td>\n",
       "      <td>19.90</td>\n",
       "      <td>0.00</td>\n",
       "      <td>...</td>\n",
       "      <td>-0.18</td>\n",
       "      <td>0.87</td>\n",
       "      <td>0.23</td>\n",
       "      <td>-0.08</td>\n",
       "      <td>297.00</td>\n",
       "      <td>48.13</td>\n",
       "      <td>15.44</td>\n",
       "      <td>0</td>\n",
       "      <td>0</td>\n",
       "      <td>1</td>\n",
       "    </tr>\n",
       "    <tr>\n",
       "      <th>3</th>\n",
       "      <td>10848459.00</td>\n",
       "      <td>1083</td>\n",
       "      <td>2360</td>\n",
       "      <td>0.00</td>\n",
       "      <td>0.00</td>\n",
       "      <td>1.00</td>\n",
       "      <td>0.00</td>\n",
       "      <td>0.00</td>\n",
       "      <td>1.74</td>\n",
       "      <td>0.00</td>\n",
       "      <td>...</td>\n",
       "      <td>-0.17</td>\n",
       "      <td>0.79</td>\n",
       "      <td>0.20</td>\n",
       "      <td>-0.07</td>\n",
       "      <td>285.53</td>\n",
       "      <td>48.29</td>\n",
       "      <td>15.60</td>\n",
       "      <td>1</td>\n",
       "      <td>0</td>\n",
       "      <td>1</td>\n",
       "    </tr>\n",
       "    <tr>\n",
       "      <th>4</th>\n",
       "      <td>10854555.00</td>\n",
       "      <td>1084</td>\n",
       "      <td>1929</td>\n",
       "      <td>1.00</td>\n",
       "      <td>0.00</td>\n",
       "      <td>0.00</td>\n",
       "      <td>0.00</td>\n",
       "      <td>0.00</td>\n",
       "      <td>2.53</td>\n",
       "      <td>0.00</td>\n",
       "      <td>...</td>\n",
       "      <td>-0.21</td>\n",
       "      <td>1.05</td>\n",
       "      <td>0.33</td>\n",
       "      <td>-0.13</td>\n",
       "      <td>288.75</td>\n",
       "      <td>48.23</td>\n",
       "      <td>15.51</td>\n",
       "      <td>0</td>\n",
       "      <td>0</td>\n",
       "      <td>1</td>\n",
       "    </tr>\n",
       "    <tr>\n",
       "      <th>...</th>\n",
       "      <td>...</td>\n",
       "      <td>...</td>\n",
       "      <td>...</td>\n",
       "      <td>...</td>\n",
       "      <td>...</td>\n",
       "      <td>...</td>\n",
       "      <td>...</td>\n",
       "      <td>...</td>\n",
       "      <td>...</td>\n",
       "      <td>...</td>\n",
       "      <td>...</td>\n",
       "      <td>...</td>\n",
       "      <td>...</td>\n",
       "      <td>...</td>\n",
       "      <td>...</td>\n",
       "      <td>...</td>\n",
       "      <td>...</td>\n",
       "      <td>...</td>\n",
       "      <td>...</td>\n",
       "      <td>...</td>\n",
       "      <td>...</td>\n",
       "    </tr>\n",
       "    <tr>\n",
       "      <th>9559</th>\n",
       "      <td>10090151.00</td>\n",
       "      <td>9249</td>\n",
       "      <td>2360</td>\n",
       "      <td>0.00</td>\n",
       "      <td>0.00</td>\n",
       "      <td>1.00</td>\n",
       "      <td>1.00</td>\n",
       "      <td>0.00</td>\n",
       "      <td>0.53</td>\n",
       "      <td>0.00</td>\n",
       "      <td>...</td>\n",
       "      <td>-0.20</td>\n",
       "      <td>0.90</td>\n",
       "      <td>0.24</td>\n",
       "      <td>-0.08</td>\n",
       "      <td>297.19</td>\n",
       "      <td>47.09</td>\n",
       "      <td>14.08</td>\n",
       "      <td>1</td>\n",
       "      <td>0</td>\n",
       "      <td>1</td>\n",
       "    </tr>\n",
       "    <tr>\n",
       "      <th>9560</th>\n",
       "      <td>10128825.00</td>\n",
       "      <td>9250</td>\n",
       "      <td>2360</td>\n",
       "      <td>0.50</td>\n",
       "      <td>0.00</td>\n",
       "      <td>0.00</td>\n",
       "      <td>0.00</td>\n",
       "      <td>0.00</td>\n",
       "      <td>1.74</td>\n",
       "      <td>0.00</td>\n",
       "      <td>...</td>\n",
       "      <td>-0.22</td>\n",
       "      <td>1.03</td>\n",
       "      <td>0.34</td>\n",
       "      <td>-0.11</td>\n",
       "      <td>286.51</td>\n",
       "      <td>47.16</td>\n",
       "      <td>14.76</td>\n",
       "      <td>0</td>\n",
       "      <td>0</td>\n",
       "      <td>1</td>\n",
       "    </tr>\n",
       "    <tr>\n",
       "      <th>9561</th>\n",
       "      <td>10147276.00</td>\n",
       "      <td>9251</td>\n",
       "      <td>2360</td>\n",
       "      <td>0.02</td>\n",
       "      <td>0.00</td>\n",
       "      <td>0.00</td>\n",
       "      <td>1.00</td>\n",
       "      <td>0.00</td>\n",
       "      <td>0.68</td>\n",
       "      <td>0.00</td>\n",
       "      <td>...</td>\n",
       "      <td>-0.22</td>\n",
       "      <td>1.04</td>\n",
       "      <td>0.34</td>\n",
       "      <td>-0.11</td>\n",
       "      <td>294.16</td>\n",
       "      <td>47.18</td>\n",
       "      <td>15.38</td>\n",
       "      <td>1</td>\n",
       "      <td>0</td>\n",
       "      <td>1</td>\n",
       "    </tr>\n",
       "    <tr>\n",
       "      <th>9562</th>\n",
       "      <td>10155286.00</td>\n",
       "      <td>9252</td>\n",
       "      <td>2360</td>\n",
       "      <td>0.09</td>\n",
       "      <td>0.00</td>\n",
       "      <td>0.00</td>\n",
       "      <td>0.00</td>\n",
       "      <td>0.00</td>\n",
       "      <td>333.49</td>\n",
       "      <td>0.00</td>\n",
       "      <td>...</td>\n",
       "      <td>-0.03</td>\n",
       "      <td>7.82</td>\n",
       "      <td>0.22</td>\n",
       "      <td>-1.90</td>\n",
       "      <td>296.76</td>\n",
       "      <td>47.15</td>\n",
       "      <td>11.00</td>\n",
       "      <td>0</td>\n",
       "      <td>0</td>\n",
       "      <td>1</td>\n",
       "    </tr>\n",
       "    <tr>\n",
       "      <th>9563</th>\n",
       "      <td>10156110.00</td>\n",
       "      <td>9253</td>\n",
       "      <td>2360</td>\n",
       "      <td>0.00</td>\n",
       "      <td>0.00</td>\n",
       "      <td>0.00</td>\n",
       "      <td>1.00</td>\n",
       "      <td>1.00</td>\n",
       "      <td>4.86</td>\n",
       "      <td>0.00</td>\n",
       "      <td>...</td>\n",
       "      <td>-0.22</td>\n",
       "      <td>1.19</td>\n",
       "      <td>0.41</td>\n",
       "      <td>-0.14</td>\n",
       "      <td>297.01</td>\n",
       "      <td>47.12</td>\n",
       "      <td>14.83</td>\n",
       "      <td>1</td>\n",
       "      <td>0</td>\n",
       "      <td>1</td>\n",
       "    </tr>\n",
       "  </tbody>\n",
       "</table>\n",
       "<p>9564 rows × 47 columns</p>\n",
       "</div>"
      ],
      "text/plain": [
       "           kepid  kepoi_name  kepler_name  koi_score  koi_fpflag_nt  \\\n",
       "0    10797460.00        1080         1090       1.00           0.00   \n",
       "1    10797460.00        1081         1091       0.97           0.00   \n",
       "2    10811496.00        1082         2360       0.00           0.00   \n",
       "3    10848459.00        1083         2360       0.00           0.00   \n",
       "4    10854555.00        1084         1929       1.00           0.00   \n",
       "...          ...         ...          ...        ...            ...   \n",
       "9559 10090151.00        9249         2360       0.00           0.00   \n",
       "9560 10128825.00        9250         2360       0.50           0.00   \n",
       "9561 10147276.00        9251         2360       0.02           0.00   \n",
       "9562 10155286.00        9252         2360       0.09           0.00   \n",
       "9563 10156110.00        9253         2360       0.00           0.00   \n",
       "\n",
       "      koi_fpflag_ss  koi_fpflag_co  koi_fpflag_ec  koi_period  \\\n",
       "0              0.00           0.00           0.00        9.49   \n",
       "1              0.00           0.00           0.00       54.42   \n",
       "2              0.00           0.00           0.00       19.90   \n",
       "3              1.00           0.00           0.00        1.74   \n",
       "4              0.00           0.00           0.00        2.53   \n",
       "...             ...            ...            ...         ...   \n",
       "9559           1.00           1.00           0.00        0.53   \n",
       "9560           0.00           0.00           0.00        1.74   \n",
       "9561           0.00           1.00           0.00        0.68   \n",
       "9562           0.00           0.00           0.00      333.49   \n",
       "9563           0.00           1.00           1.00        4.86   \n",
       "\n",
       "      koi_period_err1  ...  koi_slogg_err2  koi_srad  koi_srad_err1  \\\n",
       "0                0.00  ...           -0.10      0.93           0.10   \n",
       "1                0.00  ...           -0.10      0.93           0.10   \n",
       "2                0.00  ...           -0.18      0.87           0.23   \n",
       "3                0.00  ...           -0.17      0.79           0.20   \n",
       "4                0.00  ...           -0.21      1.05           0.33   \n",
       "...               ...  ...             ...       ...            ...   \n",
       "9559             0.00  ...           -0.20      0.90           0.24   \n",
       "9560             0.00  ...           -0.22      1.03           0.34   \n",
       "9561             0.00  ...           -0.22      1.04           0.34   \n",
       "9562             0.00  ...           -0.03      7.82           0.22   \n",
       "9563             0.00  ...           -0.22      1.19           0.41   \n",
       "\n",
       "      koi_srad_err2     ra   dec  koi_kepmag  False Positive  q1_q17_dr24_tce  \\\n",
       "0             -0.06 291.93 48.14       15.35               0                0   \n",
       "1             -0.06 291.93 48.14       15.35               0                0   \n",
       "2             -0.08 297.00 48.13       15.44               0                0   \n",
       "3             -0.07 285.53 48.29       15.60               1                0   \n",
       "4             -0.13 288.75 48.23       15.51               0                0   \n",
       "...             ...    ...   ...         ...             ...              ...   \n",
       "9559          -0.08 297.19 47.09       14.08               1                0   \n",
       "9560          -0.11 286.51 47.16       14.76               0                0   \n",
       "9561          -0.11 294.16 47.18       15.38               1                0   \n",
       "9562          -1.90 296.76 47.15       11.00               0                0   \n",
       "9563          -0.14 297.01 47.12       14.83               1                0   \n",
       "\n",
       "      q1_q17_dr25_tce  \n",
       "0                   1  \n",
       "1                   1  \n",
       "2                   1  \n",
       "3                   1  \n",
       "4                   1  \n",
       "...               ...  \n",
       "9559                1  \n",
       "9560                1  \n",
       "9561                1  \n",
       "9562                1  \n",
       "9563                1  \n",
       "\n",
       "[9564 rows x 47 columns]"
      ]
     },
     "execution_count": 35,
     "metadata": {},
     "output_type": "execute_result"
    }
   ],
   "source": [
    "X"
   ]
  },
  {
   "cell_type": "markdown",
   "id": "3390bcd4-ca7b-43cf-b5c5-d1a45e0a18e7",
   "metadata": {},
   "source": [
    "## Outliers"
   ]
  },
  {
   "cell_type": "code",
   "execution_count": 36,
   "id": "7ef68073-7168-4fa1-8fef-f59f4d0d744a",
   "metadata": {},
   "outputs": [
    {
     "data": {
      "text/plain": [
       "kepid                  AxesSubplot(0.125,0.814746;0.0945122x0.0652542)\n",
       "koi_score            AxesSubplot(0.238415,0.814746;0.0945122x0.0652...\n",
       "koi_fpflag_nt        AxesSubplot(0.351829,0.814746;0.0945122x0.0652...\n",
       "koi_fpflag_ss        AxesSubplot(0.465244,0.814746;0.0945122x0.0652...\n",
       "koi_fpflag_co        AxesSubplot(0.578659,0.814746;0.0945122x0.0652...\n",
       "koi_fpflag_ec        AxesSubplot(0.692073,0.814746;0.0945122x0.0652...\n",
       "koi_period           AxesSubplot(0.805488,0.814746;0.0945122x0.0652...\n",
       "koi_period_err1        AxesSubplot(0.125,0.736441;0.0945122x0.0652542)\n",
       "koi_period_err2      AxesSubplot(0.238415,0.736441;0.0945122x0.0652...\n",
       "koi_time0bk          AxesSubplot(0.351829,0.736441;0.0945122x0.0652...\n",
       "koi_time0bk_err1     AxesSubplot(0.465244,0.736441;0.0945122x0.0652...\n",
       "koi_time0bk_err2     AxesSubplot(0.578659,0.736441;0.0945122x0.0652...\n",
       "koi_impact           AxesSubplot(0.692073,0.736441;0.0945122x0.0652...\n",
       "koi_impact_err1      AxesSubplot(0.805488,0.736441;0.0945122x0.0652...\n",
       "koi_impact_err2        AxesSubplot(0.125,0.658136;0.0945122x0.0652542)\n",
       "koi_duration         AxesSubplot(0.238415,0.658136;0.0945122x0.0652...\n",
       "koi_duration_err1    AxesSubplot(0.351829,0.658136;0.0945122x0.0652...\n",
       "koi_duration_err2    AxesSubplot(0.465244,0.658136;0.0945122x0.0652...\n",
       "koi_depth            AxesSubplot(0.578659,0.658136;0.0945122x0.0652...\n",
       "koi_depth_err1       AxesSubplot(0.692073,0.658136;0.0945122x0.0652...\n",
       "koi_depth_err2       AxesSubplot(0.805488,0.658136;0.0945122x0.0652...\n",
       "koi_prad               AxesSubplot(0.125,0.579831;0.0945122x0.0652542)\n",
       "koi_prad_err1        AxesSubplot(0.238415,0.579831;0.0945122x0.0652...\n",
       "koi_prad_err2        AxesSubplot(0.351829,0.579831;0.0945122x0.0652...\n",
       "koi_teq              AxesSubplot(0.465244,0.579831;0.0945122x0.0652...\n",
       "koi_insol            AxesSubplot(0.578659,0.579831;0.0945122x0.0652...\n",
       "koi_insol_err1       AxesSubplot(0.692073,0.579831;0.0945122x0.0652...\n",
       "koi_insol_err2       AxesSubplot(0.805488,0.579831;0.0945122x0.0652...\n",
       "koi_model_snr          AxesSubplot(0.125,0.501525;0.0945122x0.0652542)\n",
       "koi_tce_plnt_num     AxesSubplot(0.238415,0.501525;0.0945122x0.0652...\n",
       "koi_steff            AxesSubplot(0.351829,0.501525;0.0945122x0.0652...\n",
       "koi_steff_err1       AxesSubplot(0.465244,0.501525;0.0945122x0.0652...\n",
       "koi_steff_err2       AxesSubplot(0.578659,0.501525;0.0945122x0.0652...\n",
       "koi_slogg            AxesSubplot(0.692073,0.501525;0.0945122x0.0652...\n",
       "koi_slogg_err1       AxesSubplot(0.805488,0.501525;0.0945122x0.0652...\n",
       "koi_slogg_err2          AxesSubplot(0.125,0.42322;0.0945122x0.0652542)\n",
       "koi_srad             AxesSubplot(0.238415,0.42322;0.0945122x0.0652542)\n",
       "koi_srad_err1        AxesSubplot(0.351829,0.42322;0.0945122x0.0652542)\n",
       "koi_srad_err2        AxesSubplot(0.465244,0.42322;0.0945122x0.0652542)\n",
       "ra                   AxesSubplot(0.578659,0.42322;0.0945122x0.0652542)\n",
       "dec                  AxesSubplot(0.692073,0.42322;0.0945122x0.0652542)\n",
       "koi_kepmag           AxesSubplot(0.805488,0.42322;0.0945122x0.0652542)\n",
       "dtype: object"
      ]
     },
     "execution_count": 36,
     "metadata": {},
     "output_type": "execute_result"
    },
    {
     "data": {
      "image/png": "[encoded data removed]",
      "text/plain": [
       "<Figure size 1500x2000 with 70 Axes>"
      ]
     },
     "metadata": {},
     "output_type": "display_data"
    }
   ],
   "source": [
    "X[num_cols].plot(kind=\"box\",subplots=True,layout=(10,7),figsize=(15,20))"
   ]
  },
  {
   "cell_type": "markdown",
   "id": "cedeb0e0-e551-4957-aad8-35367edb0cbd",
   "metadata": {},
   "source": [
    "### Funtion to remove outliers"
   ]
  },
  {
   "cell_type": "code",
   "execution_count": 37,
   "id": "0dae708e-52f5-48f9-b3b0-d19375e640c7",
   "metadata": {},
   "outputs": [
    {
     "data": {
      "text/plain": [
       "Index(['kepid', 'koi_score', 'koi_fpflag_nt', 'koi_fpflag_ss', 'koi_fpflag_co',\n",
       "       'koi_fpflag_ec', 'koi_period', 'koi_period_err1', 'koi_period_err2',\n",
       "       'koi_time0bk', 'koi_time0bk_err1', 'koi_time0bk_err2', 'koi_impact',\n",
       "       'koi_impact_err1', 'koi_impact_err2', 'koi_duration',\n",
       "       'koi_duration_err1', 'koi_duration_err2', 'koi_depth', 'koi_depth_err1',\n",
       "       'koi_depth_err2', 'koi_prad', 'koi_prad_err1', 'koi_prad_err2',\n",
       "       'koi_teq', 'koi_insol', 'koi_insol_err1', 'koi_insol_err2',\n",
       "       'koi_model_snr', 'koi_tce_plnt_num', 'koi_steff', 'koi_steff_err1',\n",
       "       'koi_steff_err2', 'koi_slogg', 'koi_slogg_err1', 'koi_slogg_err2',\n",
       "       'koi_srad', 'koi_srad_err1', 'koi_srad_err2', 'ra', 'dec',\n",
       "       'koi_kepmag'],\n",
       "      dtype='object')"
      ]
     },
     "execution_count": 37,
     "metadata": {},
     "output_type": "execute_result"
    }
   ],
   "source": [
    "num_cols"
   ]
  },
  {
   "cell_type": "code",
   "execution_count": 38,
   "id": "ae1436a1-4aec-472c-8b99-7ad6065380cd",
   "metadata": {},
   "outputs": [],
   "source": [
    "def remove_outliers(column):\n",
    "    q1,q3 = np.percentile(column, [25,75])\n",
    "    IQR = q3 - q1\n",
    "    upper_fence = q3 + 1.5 * IQR\n",
    "    lower_fence = q1 - 1.5 * IQR\n",
    "    \n",
    "    column = np.where(column>=upper_fence,\n",
    "                      upper_fence,\n",
    "                      np.where(column<=lower_fence,\n",
    "                               lower_fence,\n",
    "                               column)\n",
    "                     )\n",
    "    return column"
   ]
  },
  {
   "cell_type": "code",
   "execution_count": 39,
   "id": "d61edc79-3384-46d1-9f38-4fd0914384bd",
   "metadata": {},
   "outputs": [],
   "source": [
    "X['koi_kepmag'] = remove_outliers(X['koi_kepmag'])\n",
    "\n",
    "X['koi_slogg_err2'] = remove_outliers(X['koi_slogg_err2'])\n",
    "\n",
    "X['koi_slogg_err1'] = remove_outliers(X['koi_slogg_err1'])\n",
    "\n",
    "X['koi_slogg'] = remove_outliers(X['koi_slogg'])\n",
    "\n",
    "X['koi_steff'] = remove_outliers(X['koi_steff'])\n",
    "\n",
    "X['koi_steff_err1'] = remove_outliers(X['koi_steff_err1'])\n",
    "\n",
    "X['koi_steff_err2'] = remove_outliers(X['koi_steff_err2'])\n",
    "\n",
    "X['koi_teq'] = remove_outliers(X['koi_teq'])"
   ]
  },
  {
   "cell_type": "markdown",
   "id": "621a812d-e43f-46e1-bc0e-7653030474b9",
   "metadata": {},
   "source": [
    "## Feature Selection"
   ]
  },
  {
   "cell_type": "code",
   "execution_count": 40,
   "id": "d4356454-7f17-4633-83be-1c40a758f05f",
   "metadata": {},
   "outputs": [
    {
     "data": {
      "text/plain": [
       "<AxesSubplot:>"
      ]
     },
     "execution_count": 40,
     "metadata": {},
     "output_type": "execute_result"
    },
    {
     "data": {
      "image/png": "[encoded data removed]",
      "text/plain": [
       "<Figure size 1000x800 with 2 Axes>"
      ]
     },
     "metadata": {},
     "output_type": "display_data"
    }
   ],
   "source": [
    "plt.figure(figsize=(10,8))\n",
    "sns.heatmap(X.corr())"
   ]
  },
  {
   "cell_type": "markdown",
   "id": "6314dc3c-7927-407e-bd62-ca2519606c6e",
   "metadata": {},
   "source": [
    "### Information Gain"
   ]
  },
  {
   "cell_type": "code",
   "execution_count": 41,
   "id": "4e92f154-74cb-4682-87b3-0b8ab69c06b1",
   "metadata": {},
   "outputs": [],
   "source": [
    "info_gain = mutual_info_classif(X,y)"
   ]
  },
  {
   "cell_type": "code",
   "execution_count": 42,
   "id": "97438f3d-56ef-4d8b-874f-6e7c95396540",
   "metadata": {},
   "outputs": [
    {
     "data": {
      "text/plain": [
       "<AxesSubplot:>"
      ]
     },
     "execution_count": 42,
     "metadata": {},
     "output_type": "execute_result"
    },
    {
     "data": {
      "image/png": "[encoded data removed]",
      "text/plain": [
       "<Figure size 640x480 with 1 Axes>"
      ]
     },
     "metadata": {},
     "output_type": "display_data"
    }
   ],
   "source": [
    "information_gain = pd.Series(info_gain, index= X.columns)\n",
    "information_gain.nlargest(25).plot(kind='barh')"
   ]
  },
  {
   "cell_type": "markdown",
   "id": "0ca50983-b520-41a7-bd61-b9718cf93718",
   "metadata": {},
   "source": [
    "## Multi-collinearity"
   ]
  },
  {
   "cell_type": "code",
   "execution_count": 43,
   "id": "76d95681-d7ed-429f-8118-498d4f41c567",
   "metadata": {},
   "outputs": [],
   "source": [
    "Xc = X.copy()"
   ]
  },
  {
   "cell_type": "code",
   "execution_count": 44,
   "id": "61607038-baaf-4db5-a185-f556afce8f5b",
   "metadata": {},
   "outputs": [],
   "source": [
    "X = StandardScaler().fit_transform(X)\n",
    "X = pd.DataFrame(X,columns = Xc.columns)"
   ]
  },
  {
   "cell_type": "code",
   "execution_count": 45,
   "id": "9981e0a0-689a-458a-9a39-8a1f63314bde",
   "metadata": {},
   "outputs": [
    {
     "data": {
      "text/html": [
       "<div>\n",
       "<style scoped>\n",
       "    .dataframe tbody tr th:only-of-type {\n",
       "        vertical-align: middle;\n",
       "    }\n",
       "\n",
       "    .dataframe tbody tr th {\n",
       "        vertical-align: top;\n",
       "    }\n",
       "\n",
       "    .dataframe thead th {\n",
       "        text-align: right;\n",
       "    }\n",
       "</style>\n",
       "<table border=\"1\" class=\"dataframe\">\n",
       "  <thead>\n",
       "    <tr style=\"text-align: right;\">\n",
       "      <th></th>\n",
       "      <th>kepid</th>\n",
       "      <th>kepoi_name</th>\n",
       "      <th>kepler_name</th>\n",
       "      <th>koi_score</th>\n",
       "      <th>koi_fpflag_nt</th>\n",
       "      <th>koi_fpflag_ss</th>\n",
       "      <th>koi_fpflag_co</th>\n",
       "      <th>koi_fpflag_ec</th>\n",
       "      <th>koi_period</th>\n",
       "      <th>koi_period_err1</th>\n",
       "      <th>...</th>\n",
       "      <th>koi_slogg_err2</th>\n",
       "      <th>koi_srad</th>\n",
       "      <th>koi_srad_err1</th>\n",
       "      <th>koi_srad_err2</th>\n",
       "      <th>ra</th>\n",
       "      <th>dec</th>\n",
       "      <th>koi_kepmag</th>\n",
       "      <th>False Positive</th>\n",
       "      <th>q1_q17_dr24_tce</th>\n",
       "      <th>q1_q17_dr25_tce</th>\n",
       "    </tr>\n",
       "  </thead>\n",
       "  <tbody>\n",
       "    <tr>\n",
       "      <th>0</th>\n",
       "      <td>1.17</td>\n",
       "      <td>-1.34</td>\n",
       "      <td>-1.60</td>\n",
       "      <td>1.11</td>\n",
       "      <td>-0.04</td>\n",
       "      <td>-0.55</td>\n",
       "      <td>-0.50</td>\n",
       "      <td>-0.37</td>\n",
       "      <td>-0.05</td>\n",
       "      <td>-0.26</td>\n",
       "      <td>...</td>\n",
       "      <td>0.60</td>\n",
       "      <td>-0.13</td>\n",
       "      <td>-0.28</td>\n",
       "      <td>0.16</td>\n",
       "      <td>-0.03</td>\n",
       "      <td>1.20</td>\n",
       "      <td>0.80</td>\n",
       "      <td>-1.01</td>\n",
       "      <td>-0.20</td>\n",
       "      <td>0.37</td>\n",
       "    </tr>\n",
       "    <tr>\n",
       "      <th>1</th>\n",
       "      <td>1.17</td>\n",
       "      <td>-1.34</td>\n",
       "      <td>-1.60</td>\n",
       "      <td>1.04</td>\n",
       "      <td>-0.04</td>\n",
       "      <td>-0.55</td>\n",
       "      <td>-0.50</td>\n",
       "      <td>-0.37</td>\n",
       "      <td>-0.02</td>\n",
       "      <td>-0.23</td>\n",
       "      <td>...</td>\n",
       "      <td>0.60</td>\n",
       "      <td>-0.13</td>\n",
       "      <td>-0.28</td>\n",
       "      <td>0.16</td>\n",
       "      <td>-0.03</td>\n",
       "      <td>1.20</td>\n",
       "      <td>0.80</td>\n",
       "      <td>-1.01</td>\n",
       "      <td>-0.20</td>\n",
       "      <td>0.37</td>\n",
       "    </tr>\n",
       "    <tr>\n",
       "      <th>2</th>\n",
       "      <td>1.18</td>\n",
       "      <td>-1.34</td>\n",
       "      <td>0.48</td>\n",
       "      <td>-1.10</td>\n",
       "      <td>-0.04</td>\n",
       "      <td>-0.55</td>\n",
       "      <td>-0.50</td>\n",
       "      <td>-0.37</td>\n",
       "      <td>-0.04</td>\n",
       "      <td>-0.26</td>\n",
       "      <td>...</td>\n",
       "      <td>-0.45</td>\n",
       "      <td>-0.14</td>\n",
       "      <td>-0.14</td>\n",
       "      <td>0.15</td>\n",
       "      <td>1.04</td>\n",
       "      <td>1.20</td>\n",
       "      <td>0.87</td>\n",
       "      <td>-1.01</td>\n",
       "      <td>-0.20</td>\n",
       "      <td>0.37</td>\n",
       "    </tr>\n",
       "    <tr>\n",
       "      <th>3</th>\n",
       "      <td>1.19</td>\n",
       "      <td>-1.34</td>\n",
       "      <td>0.48</td>\n",
       "      <td>-1.10</td>\n",
       "      <td>-0.04</td>\n",
       "      <td>1.82</td>\n",
       "      <td>-0.50</td>\n",
       "      <td>-0.37</td>\n",
       "      <td>-0.06</td>\n",
       "      <td>-0.26</td>\n",
       "      <td>...</td>\n",
       "      <td>-0.34</td>\n",
       "      <td>-0.15</td>\n",
       "      <td>-0.18</td>\n",
       "      <td>0.15</td>\n",
       "      <td>-1.37</td>\n",
       "      <td>1.24</td>\n",
       "      <td>0.99</td>\n",
       "      <td>0.99</td>\n",
       "      <td>-0.20</td>\n",
       "      <td>0.37</td>\n",
       "    </tr>\n",
       "    <tr>\n",
       "      <th>4</th>\n",
       "      <td>1.19</td>\n",
       "      <td>-1.34</td>\n",
       "      <td>-0.23</td>\n",
       "      <td>1.11</td>\n",
       "      <td>-0.04</td>\n",
       "      <td>-0.55</td>\n",
       "      <td>-0.50</td>\n",
       "      <td>-0.37</td>\n",
       "      <td>-0.05</td>\n",
       "      <td>-0.26</td>\n",
       "      <td>...</td>\n",
       "      <td>-0.89</td>\n",
       "      <td>-0.11</td>\n",
       "      <td>-0.03</td>\n",
       "      <td>0.12</td>\n",
       "      <td>-0.69</td>\n",
       "      <td>1.23</td>\n",
       "      <td>0.92</td>\n",
       "      <td>-1.01</td>\n",
       "      <td>-0.20</td>\n",
       "      <td>0.37</td>\n",
       "    </tr>\n",
       "    <tr>\n",
       "      <th>...</th>\n",
       "      <td>...</td>\n",
       "      <td>...</td>\n",
       "      <td>...</td>\n",
       "      <td>...</td>\n",
       "      <td>...</td>\n",
       "      <td>...</td>\n",
       "      <td>...</td>\n",
       "      <td>...</td>\n",
       "      <td>...</td>\n",
       "      <td>...</td>\n",
       "      <td>...</td>\n",
       "      <td>...</td>\n",
       "      <td>...</td>\n",
       "      <td>...</td>\n",
       "      <td>...</td>\n",
       "      <td>...</td>\n",
       "      <td>...</td>\n",
       "      <td>...</td>\n",
       "      <td>...</td>\n",
       "      <td>...</td>\n",
       "      <td>...</td>\n",
       "    </tr>\n",
       "    <tr>\n",
       "      <th>9559</th>\n",
       "      <td>0.90</td>\n",
       "      <td>1.62</td>\n",
       "      <td>0.48</td>\n",
       "      <td>-1.10</td>\n",
       "      <td>-0.04</td>\n",
       "      <td>1.82</td>\n",
       "      <td>2.02</td>\n",
       "      <td>-0.37</td>\n",
       "      <td>-0.06</td>\n",
       "      <td>-0.26</td>\n",
       "      <td>...</td>\n",
       "      <td>-0.71</td>\n",
       "      <td>-0.14</td>\n",
       "      <td>-0.14</td>\n",
       "      <td>0.15</td>\n",
       "      <td>1.08</td>\n",
       "      <td>0.91</td>\n",
       "      <td>-0.15</td>\n",
       "      <td>0.99</td>\n",
       "      <td>-0.20</td>\n",
       "      <td>0.37</td>\n",
       "    </tr>\n",
       "    <tr>\n",
       "      <th>9560</th>\n",
       "      <td>0.92</td>\n",
       "      <td>1.62</td>\n",
       "      <td>0.48</td>\n",
       "      <td>-0.00</td>\n",
       "      <td>-0.04</td>\n",
       "      <td>-0.55</td>\n",
       "      <td>-0.50</td>\n",
       "      <td>-0.37</td>\n",
       "      <td>-0.06</td>\n",
       "      <td>-0.26</td>\n",
       "      <td>...</td>\n",
       "      <td>-1.08</td>\n",
       "      <td>-0.12</td>\n",
       "      <td>-0.02</td>\n",
       "      <td>0.13</td>\n",
       "      <td>-1.16</td>\n",
       "      <td>0.93</td>\n",
       "      <td>0.36</td>\n",
       "      <td>-1.01</td>\n",
       "      <td>-0.20</td>\n",
       "      <td>0.37</td>\n",
       "    </tr>\n",
       "    <tr>\n",
       "      <th>9561</th>\n",
       "      <td>0.93</td>\n",
       "      <td>1.62</td>\n",
       "      <td>0.48</td>\n",
       "      <td>-1.06</td>\n",
       "      <td>-0.04</td>\n",
       "      <td>-0.55</td>\n",
       "      <td>2.02</td>\n",
       "      <td>-0.37</td>\n",
       "      <td>-0.06</td>\n",
       "      <td>-0.26</td>\n",
       "      <td>...</td>\n",
       "      <td>-1.08</td>\n",
       "      <td>-0.11</td>\n",
       "      <td>-0.02</td>\n",
       "      <td>0.13</td>\n",
       "      <td>0.44</td>\n",
       "      <td>0.93</td>\n",
       "      <td>0.83</td>\n",
       "      <td>0.99</td>\n",
       "      <td>-0.20</td>\n",
       "      <td>0.37</td>\n",
       "    </tr>\n",
       "    <tr>\n",
       "      <th>9562</th>\n",
       "      <td>0.93</td>\n",
       "      <td>1.62</td>\n",
       "      <td>0.48</td>\n",
       "      <td>-0.90</td>\n",
       "      <td>-0.04</td>\n",
       "      <td>-0.55</td>\n",
       "      <td>-0.50</td>\n",
       "      <td>-0.37</td>\n",
       "      <td>0.19</td>\n",
       "      <td>0.26</td>\n",
       "      <td>...</td>\n",
       "      <td>1.50</td>\n",
       "      <td>1.01</td>\n",
       "      <td>-0.15</td>\n",
       "      <td>-0.71</td>\n",
       "      <td>0.99</td>\n",
       "      <td>0.93</td>\n",
       "      <td>-2.45</td>\n",
       "      <td>-1.01</td>\n",
       "      <td>-0.20</td>\n",
       "      <td>0.37</td>\n",
       "    </tr>\n",
       "    <tr>\n",
       "      <th>9563</th>\n",
       "      <td>0.93</td>\n",
       "      <td>1.62</td>\n",
       "      <td>0.48</td>\n",
       "      <td>-1.10</td>\n",
       "      <td>-0.04</td>\n",
       "      <td>-0.55</td>\n",
       "      <td>2.02</td>\n",
       "      <td>2.71</td>\n",
       "      <td>-0.05</td>\n",
       "      <td>-0.26</td>\n",
       "      <td>...</td>\n",
       "      <td>-0.97</td>\n",
       "      <td>-0.09</td>\n",
       "      <td>0.05</td>\n",
       "      <td>0.12</td>\n",
       "      <td>1.04</td>\n",
       "      <td>0.92</td>\n",
       "      <td>0.41</td>\n",
       "      <td>0.99</td>\n",
       "      <td>-0.20</td>\n",
       "      <td>0.37</td>\n",
       "    </tr>\n",
       "  </tbody>\n",
       "</table>\n",
       "<p>9564 rows × 47 columns</p>\n",
       "</div>"
      ],
      "text/plain": [
       "      kepid  kepoi_name  kepler_name  koi_score  koi_fpflag_nt  koi_fpflag_ss  \\\n",
       "0      1.17       -1.34        -1.60       1.11          -0.04          -0.55   \n",
       "1      1.17       -1.34        -1.60       1.04          -0.04          -0.55   \n",
       "2      1.18       -1.34         0.48      -1.10          -0.04          -0.55   \n",
       "3      1.19       -1.34         0.48      -1.10          -0.04           1.82   \n",
       "4      1.19       -1.34        -0.23       1.11          -0.04          -0.55   \n",
       "...     ...         ...          ...        ...            ...            ...   \n",
       "9559   0.90        1.62         0.48      -1.10          -0.04           1.82   \n",
       "9560   0.92        1.62         0.48      -0.00          -0.04          -0.55   \n",
       "9561   0.93        1.62         0.48      -1.06          -0.04          -0.55   \n",
       "9562   0.93        1.62         0.48      -0.90          -0.04          -0.55   \n",
       "9563   0.93        1.62         0.48      -1.10          -0.04          -0.55   \n",
       "\n",
       "      koi_fpflag_co  koi_fpflag_ec  koi_period  koi_period_err1  ...  \\\n",
       "0             -0.50          -0.37       -0.05            -0.26  ...   \n",
       "1             -0.50          -0.37       -0.02            -0.23  ...   \n",
       "2             -0.50          -0.37       -0.04            -0.26  ...   \n",
       "3             -0.50          -0.37       -0.06            -0.26  ...   \n",
       "4             -0.50          -0.37       -0.05            -0.26  ...   \n",
       "...             ...            ...         ...              ...  ...   \n",
       "9559           2.02          -0.37       -0.06            -0.26  ...   \n",
       "9560          -0.50          -0.37       -0.06            -0.26  ...   \n",
       "9561           2.02          -0.37       -0.06            -0.26  ...   \n",
       "9562          -0.50          -0.37        0.19             0.26  ...   \n",
       "9563           2.02           2.71       -0.05            -0.26  ...   \n",
       "\n",
       "      koi_slogg_err2  koi_srad  koi_srad_err1  koi_srad_err2    ra  dec  \\\n",
       "0               0.60     -0.13          -0.28           0.16 -0.03 1.20   \n",
       "1               0.60     -0.13          -0.28           0.16 -0.03 1.20   \n",
       "2              -0.45     -0.14          -0.14           0.15  1.04 1.20   \n",
       "3              -0.34     -0.15          -0.18           0.15 -1.37 1.24   \n",
       "4              -0.89     -0.11          -0.03           0.12 -0.69 1.23   \n",
       "...              ...       ...            ...            ...   ...  ...   \n",
       "9559           -0.71     -0.14          -0.14           0.15  1.08 0.91   \n",
       "9560           -1.08     -0.12          -0.02           0.13 -1.16 0.93   \n",
       "9561           -1.08     -0.11          -0.02           0.13  0.44 0.93   \n",
       "9562            1.50      1.01          -0.15          -0.71  0.99 0.93   \n",
       "9563           -0.97     -0.09           0.05           0.12  1.04 0.92   \n",
       "\n",
       "      koi_kepmag  False Positive  q1_q17_dr24_tce  q1_q17_dr25_tce  \n",
       "0           0.80           -1.01            -0.20             0.37  \n",
       "1           0.80           -1.01            -0.20             0.37  \n",
       "2           0.87           -1.01            -0.20             0.37  \n",
       "3           0.99            0.99            -0.20             0.37  \n",
       "4           0.92           -1.01            -0.20             0.37  \n",
       "...          ...             ...              ...              ...  \n",
       "9559       -0.15            0.99            -0.20             0.37  \n",
       "9560        0.36           -1.01            -0.20             0.37  \n",
       "9561        0.83            0.99            -0.20             0.37  \n",
       "9562       -2.45           -1.01            -0.20             0.37  \n",
       "9563        0.41            0.99            -0.20             0.37  \n",
       "\n",
       "[9564 rows x 47 columns]"
      ]
     },
     "execution_count": 45,
     "metadata": {},
     "output_type": "execute_result"
    }
   ],
   "source": [
    "X"
   ]
  },
  {
   "cell_type": "code",
   "execution_count": 46,
   "id": "6a39089b-28f5-47c9-8588-425088034cce",
   "metadata": {},
   "outputs": [],
   "source": [
    "VIF = pd.DataFrame(X.columns,columns=['features'])"
   ]
  },
  {
   "cell_type": "code",
   "execution_count": 47,
   "id": "4ad2d5de-d575-43d0-9201-04f9a495e059",
   "metadata": {},
   "outputs": [
    {
     "data": {
      "text/html": [
       "<div>\n",
       "<style scoped>\n",
       "    .dataframe tbody tr th:only-of-type {\n",
       "        vertical-align: middle;\n",
       "    }\n",
       "\n",
       "    .dataframe tbody tr th {\n",
       "        vertical-align: top;\n",
       "    }\n",
       "\n",
       "    .dataframe thead th {\n",
       "        text-align: right;\n",
       "    }\n",
       "</style>\n",
       "<table border=\"1\" class=\"dataframe\">\n",
       "  <thead>\n",
       "    <tr style=\"text-align: right;\">\n",
       "      <th></th>\n",
       "      <th>features</th>\n",
       "      <th>vif</th>\n",
       "    </tr>\n",
       "  </thead>\n",
       "  <tbody>\n",
       "    <tr>\n",
       "      <th>0</th>\n",
       "      <td>kepid</td>\n",
       "      <td>80.09</td>\n",
       "    </tr>\n",
       "    <tr>\n",
       "      <th>1</th>\n",
       "      <td>kepoi_name</td>\n",
       "      <td>1.67</td>\n",
       "    </tr>\n",
       "    <tr>\n",
       "      <th>2</th>\n",
       "      <td>kepler_name</td>\n",
       "      <td>1.52</td>\n",
       "    </tr>\n",
       "    <tr>\n",
       "      <th>3</th>\n",
       "      <td>koi_score</td>\n",
       "      <td>4.06</td>\n",
       "    </tr>\n",
       "    <tr>\n",
       "      <th>4</th>\n",
       "      <td>koi_fpflag_nt</td>\n",
       "      <td>1.00</td>\n",
       "    </tr>\n",
       "    <tr>\n",
       "      <th>5</th>\n",
       "      <td>koi_fpflag_ss</td>\n",
       "      <td>1.99</td>\n",
       "    </tr>\n",
       "    <tr>\n",
       "      <th>6</th>\n",
       "      <td>koi_fpflag_co</td>\n",
       "      <td>2.01</td>\n",
       "    </tr>\n",
       "    <tr>\n",
       "      <th>7</th>\n",
       "      <td>koi_fpflag_ec</td>\n",
       "      <td>1.51</td>\n",
       "    </tr>\n",
       "    <tr>\n",
       "      <th>8</th>\n",
       "      <td>koi_period</td>\n",
       "      <td>1.01</td>\n",
       "    </tr>\n",
       "    <tr>\n",
       "      <th>9</th>\n",
       "      <td>koi_period_err1</td>\n",
       "      <td>inf</td>\n",
       "    </tr>\n",
       "    <tr>\n",
       "      <th>10</th>\n",
       "      <td>koi_period_err2</td>\n",
       "      <td>inf</td>\n",
       "    </tr>\n",
       "    <tr>\n",
       "      <th>11</th>\n",
       "      <td>koi_time0bk</td>\n",
       "      <td>1.47</td>\n",
       "    </tr>\n",
       "    <tr>\n",
       "      <th>12</th>\n",
       "      <td>koi_time0bk_err1</td>\n",
       "      <td>inf</td>\n",
       "    </tr>\n",
       "    <tr>\n",
       "      <th>13</th>\n",
       "      <td>koi_time0bk_err2</td>\n",
       "      <td>inf</td>\n",
       "    </tr>\n",
       "    <tr>\n",
       "      <th>14</th>\n",
       "      <td>koi_impact</td>\n",
       "      <td>4.75</td>\n",
       "    </tr>\n",
       "    <tr>\n",
       "      <th>15</th>\n",
       "      <td>koi_impact_err1</td>\n",
       "      <td>1.16</td>\n",
       "    </tr>\n",
       "    <tr>\n",
       "      <th>16</th>\n",
       "      <td>koi_impact_err2</td>\n",
       "      <td>2.98</td>\n",
       "    </tr>\n",
       "    <tr>\n",
       "      <th>17</th>\n",
       "      <td>koi_duration</td>\n",
       "      <td>1.41</td>\n",
       "    </tr>\n",
       "    <tr>\n",
       "      <th>18</th>\n",
       "      <td>koi_duration_err1</td>\n",
       "      <td>inf</td>\n",
       "    </tr>\n",
       "    <tr>\n",
       "      <th>19</th>\n",
       "      <td>koi_duration_err2</td>\n",
       "      <td>inf</td>\n",
       "    </tr>\n",
       "    <tr>\n",
       "      <th>20</th>\n",
       "      <td>koi_depth</td>\n",
       "      <td>1.93</td>\n",
       "    </tr>\n",
       "    <tr>\n",
       "      <th>21</th>\n",
       "      <td>koi_depth_err1</td>\n",
       "      <td>inf</td>\n",
       "    </tr>\n",
       "    <tr>\n",
       "      <th>22</th>\n",
       "      <td>koi_depth_err2</td>\n",
       "      <td>inf</td>\n",
       "    </tr>\n",
       "    <tr>\n",
       "      <th>23</th>\n",
       "      <td>koi_prad</td>\n",
       "      <td>77.20</td>\n",
       "    </tr>\n",
       "    <tr>\n",
       "      <th>24</th>\n",
       "      <td>koi_prad_err1</td>\n",
       "      <td>3.27</td>\n",
       "    </tr>\n",
       "    <tr>\n",
       "      <th>25</th>\n",
       "      <td>koi_prad_err2</td>\n",
       "      <td>63.00</td>\n",
       "    </tr>\n",
       "    <tr>\n",
       "      <th>26</th>\n",
       "      <td>koi_teq</td>\n",
       "      <td>2.27</td>\n",
       "    </tr>\n",
       "    <tr>\n",
       "      <th>27</th>\n",
       "      <td>koi_insol</td>\n",
       "      <td>33.24</td>\n",
       "    </tr>\n",
       "    <tr>\n",
       "      <th>28</th>\n",
       "      <td>koi_insol_err1</td>\n",
       "      <td>8.22</td>\n",
       "    </tr>\n",
       "    <tr>\n",
       "      <th>29</th>\n",
       "      <td>koi_insol_err2</td>\n",
       "      <td>22.39</td>\n",
       "    </tr>\n",
       "    <tr>\n",
       "      <th>30</th>\n",
       "      <td>koi_model_snr</td>\n",
       "      <td>1.80</td>\n",
       "    </tr>\n",
       "    <tr>\n",
       "      <th>31</th>\n",
       "      <td>koi_tce_plnt_num</td>\n",
       "      <td>1.11</td>\n",
       "    </tr>\n",
       "    <tr>\n",
       "      <th>32</th>\n",
       "      <td>koi_steff</td>\n",
       "      <td>2.67</td>\n",
       "    </tr>\n",
       "    <tr>\n",
       "      <th>33</th>\n",
       "      <td>koi_steff_err1</td>\n",
       "      <td>5.05</td>\n",
       "    </tr>\n",
       "    <tr>\n",
       "      <th>34</th>\n",
       "      <td>koi_steff_err2</td>\n",
       "      <td>5.66</td>\n",
       "    </tr>\n",
       "    <tr>\n",
       "      <th>35</th>\n",
       "      <td>koi_slogg</td>\n",
       "      <td>4.27</td>\n",
       "    </tr>\n",
       "    <tr>\n",
       "      <th>36</th>\n",
       "      <td>koi_slogg_err1</td>\n",
       "      <td>3.24</td>\n",
       "    </tr>\n",
       "    <tr>\n",
       "      <th>37</th>\n",
       "      <td>koi_slogg_err2</td>\n",
       "      <td>1.99</td>\n",
       "    </tr>\n",
       "    <tr>\n",
       "      <th>38</th>\n",
       "      <td>koi_srad</td>\n",
       "      <td>8.79</td>\n",
       "    </tr>\n",
       "    <tr>\n",
       "      <th>39</th>\n",
       "      <td>koi_srad_err1</td>\n",
       "      <td>3.79</td>\n",
       "    </tr>\n",
       "    <tr>\n",
       "      <th>40</th>\n",
       "      <td>koi_srad_err2</td>\n",
       "      <td>6.37</td>\n",
       "    </tr>\n",
       "    <tr>\n",
       "      <th>41</th>\n",
       "      <td>ra</td>\n",
       "      <td>1.09</td>\n",
       "    </tr>\n",
       "    <tr>\n",
       "      <th>42</th>\n",
       "      <td>dec</td>\n",
       "      <td>79.96</td>\n",
       "    </tr>\n",
       "    <tr>\n",
       "      <th>43</th>\n",
       "      <td>koi_kepmag</td>\n",
       "      <td>1.71</td>\n",
       "    </tr>\n",
       "    <tr>\n",
       "      <th>44</th>\n",
       "      <td>False Positive</td>\n",
       "      <td>3.74</td>\n",
       "    </tr>\n",
       "    <tr>\n",
       "      <th>45</th>\n",
       "      <td>q1_q17_dr24_tce</td>\n",
       "      <td>1.58</td>\n",
       "    </tr>\n",
       "    <tr>\n",
       "      <th>46</th>\n",
       "      <td>q1_q17_dr25_tce</td>\n",
       "      <td>2.03</td>\n",
       "    </tr>\n",
       "  </tbody>\n",
       "</table>\n",
       "</div>"
      ],
      "text/plain": [
       "             features   vif\n",
       "0               kepid 80.09\n",
       "1          kepoi_name  1.67\n",
       "2         kepler_name  1.52\n",
       "3           koi_score  4.06\n",
       "4       koi_fpflag_nt  1.00\n",
       "5       koi_fpflag_ss  1.99\n",
       "6       koi_fpflag_co  2.01\n",
       "7       koi_fpflag_ec  1.51\n",
       "8          koi_period  1.01\n",
       "9     koi_period_err1   inf\n",
       "10    koi_period_err2   inf\n",
       "11        koi_time0bk  1.47\n",
       "12   koi_time0bk_err1   inf\n",
       "13   koi_time0bk_err2   inf\n",
       "14         koi_impact  4.75\n",
       "15    koi_impact_err1  1.16\n",
       "16    koi_impact_err2  2.98\n",
       "17       koi_duration  1.41\n",
       "18  koi_duration_err1   inf\n",
       "19  koi_duration_err2   inf\n",
       "20          koi_depth  1.93\n",
       "21     koi_depth_err1   inf\n",
       "22     koi_depth_err2   inf\n",
       "23           koi_prad 77.20\n",
       "24      koi_prad_err1  3.27\n",
       "25      koi_prad_err2 63.00\n",
       "26            koi_teq  2.27\n",
       "27          koi_insol 33.24\n",
       "28     koi_insol_err1  8.22\n",
       "29     koi_insol_err2 22.39\n",
       "30      koi_model_snr  1.80\n",
       "31   koi_tce_plnt_num  1.11\n",
       "32          koi_steff  2.67\n",
       "33     koi_steff_err1  5.05\n",
       "34     koi_steff_err2  5.66\n",
       "35          koi_slogg  4.27\n",
       "36     koi_slogg_err1  3.24\n",
       "37     koi_slogg_err2  1.99\n",
       "38           koi_srad  8.79\n",
       "39      koi_srad_err1  3.79\n",
       "40      koi_srad_err2  6.37\n",
       "41                 ra  1.09\n",
       "42                dec 79.96\n",
       "43         koi_kepmag  1.71\n",
       "44     False Positive  3.74\n",
       "45    q1_q17_dr24_tce  1.58\n",
       "46    q1_q17_dr25_tce  2.03"
      ]
     },
     "execution_count": 47,
     "metadata": {},
     "output_type": "execute_result"
    }
   ],
   "source": [
    "VIF['vif'] = [variance_inflation_factor(X,i) for i in range(X.shape[1])]\n",
    "VIF"
   ]
  },
  {
   "cell_type": "code",
   "execution_count": 48,
   "id": "cb216bba-8c9f-46d1-9e72-7555bdccc209",
   "metadata": {},
   "outputs": [
    {
     "data": {
      "text/html": [
       "<div>\n",
       "<style scoped>\n",
       "    .dataframe tbody tr th:only-of-type {\n",
       "        vertical-align: middle;\n",
       "    }\n",
       "\n",
       "    .dataframe tbody tr th {\n",
       "        vertical-align: top;\n",
       "    }\n",
       "\n",
       "    .dataframe thead th {\n",
       "        text-align: right;\n",
       "    }\n",
       "</style>\n",
       "<table border=\"1\" class=\"dataframe\">\n",
       "  <thead>\n",
       "    <tr style=\"text-align: right;\">\n",
       "      <th></th>\n",
       "      <th>koi_period_err2</th>\n",
       "      <th>koi_depth_err2</th>\n",
       "      <th>koi_depth_err1</th>\n",
       "      <th>koi_duration_err2</th>\n",
       "      <th>koi_duration_err1</th>\n",
       "      <th>koi_time0bk_err2</th>\n",
       "      <th>koi_time0bk_err1</th>\n",
       "      <th>koi_period_err1</th>\n",
       "      <th>kepid</th>\n",
       "      <th>dec</th>\n",
       "      <th>koi_prad</th>\n",
       "      <th>koi_prad_err2</th>\n",
       "      <th>koi_insol</th>\n",
       "      <th>koi_insol_err2</th>\n",
       "      <th>koi_srad</th>\n",
       "      <th>koi_insol_err1</th>\n",
       "      <th>koi_srad_err2</th>\n",
       "      <th>koi_steff_err2</th>\n",
       "    </tr>\n",
       "  </thead>\n",
       "  <tbody>\n",
       "    <tr>\n",
       "      <th>0</th>\n",
       "      <td>0.26</td>\n",
       "      <td>0.03</td>\n",
       "      <td>-0.03</td>\n",
       "      <td>0.39</td>\n",
       "      <td>-0.39</td>\n",
       "      <td>0.34</td>\n",
       "      <td>-0.34</td>\n",
       "      <td>-0.26</td>\n",
       "      <td>1.17</td>\n",
       "      <td>1.20</td>\n",
       "      <td>-0.03</td>\n",
       "      <td>0.03</td>\n",
       "      <td>-0.05</td>\n",
       "      <td>0.05</td>\n",
       "      <td>-0.13</td>\n",
       "      <td>-0.07</td>\n",
       "      <td>0.16</td>\n",
       "      <td>1.35</td>\n",
       "    </tr>\n",
       "    <tr>\n",
       "      <th>1</th>\n",
       "      <td>0.23</td>\n",
       "      <td>0.02</td>\n",
       "      <td>-0.02</td>\n",
       "      <td>0.34</td>\n",
       "      <td>-0.34</td>\n",
       "      <td>0.28</td>\n",
       "      <td>-0.28</td>\n",
       "      <td>-0.23</td>\n",
       "      <td>1.17</td>\n",
       "      <td>1.20</td>\n",
       "      <td>-0.03</td>\n",
       "      <td>0.03</td>\n",
       "      <td>-0.05</td>\n",
       "      <td>0.05</td>\n",
       "      <td>-0.13</td>\n",
       "      <td>-0.07</td>\n",
       "      <td>0.16</td>\n",
       "      <td>1.35</td>\n",
       "    </tr>\n",
       "    <tr>\n",
       "      <th>2</th>\n",
       "      <td>0.26</td>\n",
       "      <td>-0.01</td>\n",
       "      <td>0.01</td>\n",
       "      <td>0.47</td>\n",
       "      <td>-0.47</td>\n",
       "      <td>0.41</td>\n",
       "      <td>-0.41</td>\n",
       "      <td>-0.26</td>\n",
       "      <td>1.18</td>\n",
       "      <td>1.20</td>\n",
       "      <td>-0.03</td>\n",
       "      <td>0.03</td>\n",
       "      <td>-0.05</td>\n",
       "      <td>0.05</td>\n",
       "      <td>-0.14</td>\n",
       "      <td>-0.07</td>\n",
       "      <td>0.15</td>\n",
       "      <td>-0.27</td>\n",
       "    </tr>\n",
       "    <tr>\n",
       "      <th>3</th>\n",
       "      <td>0.26</td>\n",
       "      <td>0.03</td>\n",
       "      <td>-0.03</td>\n",
       "      <td>0.51</td>\n",
       "      <td>-0.51</td>\n",
       "      <td>0.43</td>\n",
       "      <td>-0.43</td>\n",
       "      <td>-0.26</td>\n",
       "      <td>1.19</td>\n",
       "      <td>1.24</td>\n",
       "      <td>-0.02</td>\n",
       "      <td>0.03</td>\n",
       "      <td>-0.04</td>\n",
       "      <td>0.04</td>\n",
       "      <td>-0.15</td>\n",
       "      <td>-0.06</td>\n",
       "      <td>0.15</td>\n",
       "      <td>-0.23</td>\n",
       "    </tr>\n",
       "    <tr>\n",
       "      <th>4</th>\n",
       "      <td>0.26</td>\n",
       "      <td>0.03</td>\n",
       "      <td>-0.03</td>\n",
       "      <td>0.45</td>\n",
       "      <td>-0.45</td>\n",
       "      <td>0.39</td>\n",
       "      <td>-0.39</td>\n",
       "      <td>-0.26</td>\n",
       "      <td>1.19</td>\n",
       "      <td>1.23</td>\n",
       "      <td>-0.03</td>\n",
       "      <td>0.03</td>\n",
       "      <td>-0.04</td>\n",
       "      <td>0.04</td>\n",
       "      <td>-0.11</td>\n",
       "      <td>-0.05</td>\n",
       "      <td>0.12</td>\n",
       "      <td>-0.86</td>\n",
       "    </tr>\n",
       "    <tr>\n",
       "      <th>...</th>\n",
       "      <td>...</td>\n",
       "      <td>...</td>\n",
       "      <td>...</td>\n",
       "      <td>...</td>\n",
       "      <td>...</td>\n",
       "      <td>...</td>\n",
       "      <td>...</td>\n",
       "      <td>...</td>\n",
       "      <td>...</td>\n",
       "      <td>...</td>\n",
       "      <td>...</td>\n",
       "      <td>...</td>\n",
       "      <td>...</td>\n",
       "      <td>...</td>\n",
       "      <td>...</td>\n",
       "      <td>...</td>\n",
       "      <td>...</td>\n",
       "      <td>...</td>\n",
       "    </tr>\n",
       "    <tr>\n",
       "      <th>9559</th>\n",
       "      <td>0.26</td>\n",
       "      <td>0.03</td>\n",
       "      <td>-0.03</td>\n",
       "      <td>0.49</td>\n",
       "      <td>-0.49</td>\n",
       "      <td>0.43</td>\n",
       "      <td>-0.43</td>\n",
       "      <td>-0.26</td>\n",
       "      <td>0.90</td>\n",
       "      <td>0.91</td>\n",
       "      <td>-0.02</td>\n",
       "      <td>0.03</td>\n",
       "      <td>-0.02</td>\n",
       "      <td>0.03</td>\n",
       "      <td>-0.14</td>\n",
       "      <td>-0.01</td>\n",
       "      <td>0.15</td>\n",
       "      <td>-0.10</td>\n",
       "    </tr>\n",
       "    <tr>\n",
       "      <th>9560</th>\n",
       "      <td>0.26</td>\n",
       "      <td>0.03</td>\n",
       "      <td>-0.03</td>\n",
       "      <td>0.17</td>\n",
       "      <td>-0.17</td>\n",
       "      <td>0.10</td>\n",
       "      <td>-0.10</td>\n",
       "      <td>-0.26</td>\n",
       "      <td>0.92</td>\n",
       "      <td>0.93</td>\n",
       "      <td>-0.03</td>\n",
       "      <td>0.03</td>\n",
       "      <td>-0.04</td>\n",
       "      <td>0.04</td>\n",
       "      <td>-0.12</td>\n",
       "      <td>-0.04</td>\n",
       "      <td>0.13</td>\n",
       "      <td>-1.01</td>\n",
       "    </tr>\n",
       "    <tr>\n",
       "      <th>9561</th>\n",
       "      <td>0.26</td>\n",
       "      <td>0.03</td>\n",
       "      <td>-0.03</td>\n",
       "      <td>0.27</td>\n",
       "      <td>-0.27</td>\n",
       "      <td>0.31</td>\n",
       "      <td>-0.31</td>\n",
       "      <td>-0.26</td>\n",
       "      <td>0.93</td>\n",
       "      <td>0.93</td>\n",
       "      <td>-0.03</td>\n",
       "      <td>0.03</td>\n",
       "      <td>-0.01</td>\n",
       "      <td>0.03</td>\n",
       "      <td>-0.11</td>\n",
       "      <td>0.04</td>\n",
       "      <td>0.13</td>\n",
       "      <td>-1.29</td>\n",
       "    </tr>\n",
       "    <tr>\n",
       "      <th>9562</th>\n",
       "      <td>-0.26</td>\n",
       "      <td>0.02</td>\n",
       "      <td>-0.02</td>\n",
       "      <td>0.17</td>\n",
       "      <td>-0.17</td>\n",
       "      <td>0.21</td>\n",
       "      <td>-0.21</td>\n",
       "      <td>0.26</td>\n",
       "      <td>0.93</td>\n",
       "      <td>0.93</td>\n",
       "      <td>-0.03</td>\n",
       "      <td>0.02</td>\n",
       "      <td>-0.05</td>\n",
       "      <td>0.05</td>\n",
       "      <td>1.01</td>\n",
       "      <td>-0.07</td>\n",
       "      <td>-0.71</td>\n",
       "      <td>0.55</td>\n",
       "    </tr>\n",
       "    <tr>\n",
       "      <th>9563</th>\n",
       "      <td>0.26</td>\n",
       "      <td>0.03</td>\n",
       "      <td>-0.03</td>\n",
       "      <td>0.09</td>\n",
       "      <td>-0.09</td>\n",
       "      <td>-0.04</td>\n",
       "      <td>0.04</td>\n",
       "      <td>-0.26</td>\n",
       "      <td>0.93</td>\n",
       "      <td>0.92</td>\n",
       "      <td>-0.03</td>\n",
       "      <td>0.03</td>\n",
       "      <td>-0.05</td>\n",
       "      <td>0.04</td>\n",
       "      <td>-0.09</td>\n",
       "      <td>-0.06</td>\n",
       "      <td>0.12</td>\n",
       "      <td>-1.10</td>\n",
       "    </tr>\n",
       "  </tbody>\n",
       "</table>\n",
       "<p>9564 rows × 18 columns</p>\n",
       "</div>"
      ],
      "text/plain": [
       "      koi_period_err2  koi_depth_err2  koi_depth_err1  koi_duration_err2  \\\n",
       "0                0.26            0.03           -0.03               0.39   \n",
       "1                0.23            0.02           -0.02               0.34   \n",
       "2                0.26           -0.01            0.01               0.47   \n",
       "3                0.26            0.03           -0.03               0.51   \n",
       "4                0.26            0.03           -0.03               0.45   \n",
       "...               ...             ...             ...                ...   \n",
       "9559             0.26            0.03           -0.03               0.49   \n",
       "9560             0.26            0.03           -0.03               0.17   \n",
       "9561             0.26            0.03           -0.03               0.27   \n",
       "9562            -0.26            0.02           -0.02               0.17   \n",
       "9563             0.26            0.03           -0.03               0.09   \n",
       "\n",
       "      koi_duration_err1  koi_time0bk_err2  koi_time0bk_err1  koi_period_err1  \\\n",
       "0                 -0.39              0.34             -0.34            -0.26   \n",
       "1                 -0.34              0.28             -0.28            -0.23   \n",
       "2                 -0.47              0.41             -0.41            -0.26   \n",
       "3                 -0.51              0.43             -0.43            -0.26   \n",
       "4                 -0.45              0.39             -0.39            -0.26   \n",
       "...                 ...               ...               ...              ...   \n",
       "9559              -0.49              0.43             -0.43            -0.26   \n",
       "9560              -0.17              0.10             -0.10            -0.26   \n",
       "9561              -0.27              0.31             -0.31            -0.26   \n",
       "9562              -0.17              0.21             -0.21             0.26   \n",
       "9563              -0.09             -0.04              0.04            -0.26   \n",
       "\n",
       "      kepid  dec  koi_prad  koi_prad_err2  koi_insol  koi_insol_err2  \\\n",
       "0      1.17 1.20     -0.03           0.03      -0.05            0.05   \n",
       "1      1.17 1.20     -0.03           0.03      -0.05            0.05   \n",
       "2      1.18 1.20     -0.03           0.03      -0.05            0.05   \n",
       "3      1.19 1.24     -0.02           0.03      -0.04            0.04   \n",
       "4      1.19 1.23     -0.03           0.03      -0.04            0.04   \n",
       "...     ...  ...       ...            ...        ...             ...   \n",
       "9559   0.90 0.91     -0.02           0.03      -0.02            0.03   \n",
       "9560   0.92 0.93     -0.03           0.03      -0.04            0.04   \n",
       "9561   0.93 0.93     -0.03           0.03      -0.01            0.03   \n",
       "9562   0.93 0.93     -0.03           0.02      -0.05            0.05   \n",
       "9563   0.93 0.92     -0.03           0.03      -0.05            0.04   \n",
       "\n",
       "      koi_srad  koi_insol_err1  koi_srad_err2  koi_steff_err2  \n",
       "0        -0.13           -0.07           0.16            1.35  \n",
       "1        -0.13           -0.07           0.16            1.35  \n",
       "2        -0.14           -0.07           0.15           -0.27  \n",
       "3        -0.15           -0.06           0.15           -0.23  \n",
       "4        -0.11           -0.05           0.12           -0.86  \n",
       "...        ...             ...            ...             ...  \n",
       "9559     -0.14           -0.01           0.15           -0.10  \n",
       "9560     -0.12           -0.04           0.13           -1.01  \n",
       "9561     -0.11            0.04           0.13           -1.29  \n",
       "9562      1.01           -0.07          -0.71            0.55  \n",
       "9563     -0.09           -0.06           0.12           -1.10  \n",
       "\n",
       "[9564 rows x 18 columns]"
      ]
     },
     "execution_count": 48,
     "metadata": {},
     "output_type": "execute_result"
    }
   ],
   "source": [
    "high_collinearity = VIF.sort_values(by='vif',ascending=False)[:18]['features'].values\n",
    "X[high_collinearity]\n",
    "\n",
    "#These columns have a very high multi-collinearity. Therefore, have to drop them."
   ]
  },
  {
   "cell_type": "code",
   "execution_count": 49,
   "id": "a3f20751-7069-4e98-8e48-3fc6f2d3a7de",
   "metadata": {},
   "outputs": [],
   "source": [
    "X.drop(columns = high_collinearity,axis=1,inplace=True)"
   ]
  },
  {
   "cell_type": "code",
   "execution_count": 50,
   "id": "f2c89eb4-46d8-454f-a372-6d866bbb322e",
   "metadata": {},
   "outputs": [
    {
     "data": {
      "text/html": [
       "<div>\n",
       "<style scoped>\n",
       "    .dataframe tbody tr th:only-of-type {\n",
       "        vertical-align: middle;\n",
       "    }\n",
       "\n",
       "    .dataframe tbody tr th {\n",
       "        vertical-align: top;\n",
       "    }\n",
       "\n",
       "    .dataframe thead th {\n",
       "        text-align: right;\n",
       "    }\n",
       "</style>\n",
       "<table border=\"1\" class=\"dataframe\">\n",
       "  <thead>\n",
       "    <tr style=\"text-align: right;\">\n",
       "      <th></th>\n",
       "      <th>kepoi_name</th>\n",
       "      <th>kepler_name</th>\n",
       "      <th>koi_score</th>\n",
       "      <th>koi_fpflag_nt</th>\n",
       "      <th>koi_fpflag_ss</th>\n",
       "      <th>koi_fpflag_co</th>\n",
       "      <th>koi_fpflag_ec</th>\n",
       "      <th>koi_period</th>\n",
       "      <th>koi_time0bk</th>\n",
       "      <th>koi_impact</th>\n",
       "      <th>...</th>\n",
       "      <th>koi_steff_err1</th>\n",
       "      <th>koi_slogg</th>\n",
       "      <th>koi_slogg_err1</th>\n",
       "      <th>koi_slogg_err2</th>\n",
       "      <th>koi_srad_err1</th>\n",
       "      <th>ra</th>\n",
       "      <th>koi_kepmag</th>\n",
       "      <th>False Positive</th>\n",
       "      <th>q1_q17_dr24_tce</th>\n",
       "      <th>q1_q17_dr25_tce</th>\n",
       "    </tr>\n",
       "  </thead>\n",
       "  <tbody>\n",
       "    <tr>\n",
       "      <th>0</th>\n",
       "      <td>-1.34</td>\n",
       "      <td>-1.60</td>\n",
       "      <td>1.11</td>\n",
       "      <td>-0.04</td>\n",
       "      <td>-0.55</td>\n",
       "      <td>-0.50</td>\n",
       "      <td>-0.37</td>\n",
       "      <td>-0.05</td>\n",
       "      <td>0.06</td>\n",
       "      <td>-0.18</td>\n",
       "      <td>...</td>\n",
       "      <td>-1.45</td>\n",
       "      <td>0.42</td>\n",
       "      <td>-0.51</td>\n",
       "      <td>0.60</td>\n",
       "      <td>-0.28</td>\n",
       "      <td>-0.03</td>\n",
       "      <td>0.80</td>\n",
       "      <td>-1.01</td>\n",
       "      <td>-0.20</td>\n",
       "      <td>0.37</td>\n",
       "    </tr>\n",
       "    <tr>\n",
       "      <th>1</th>\n",
       "      <td>-1.34</td>\n",
       "      <td>-1.60</td>\n",
       "      <td>1.04</td>\n",
       "      <td>-0.04</td>\n",
       "      <td>-0.55</td>\n",
       "      <td>-0.50</td>\n",
       "      <td>-0.37</td>\n",
       "      <td>-0.02</td>\n",
       "      <td>-0.05</td>\n",
       "      <td>-0.04</td>\n",
       "      <td>...</td>\n",
       "      <td>-1.45</td>\n",
       "      <td>0.42</td>\n",
       "      <td>-0.51</td>\n",
       "      <td>0.60</td>\n",
       "      <td>-0.28</td>\n",
       "      <td>-0.03</td>\n",
       "      <td>0.80</td>\n",
       "      <td>-1.01</td>\n",
       "      <td>-0.20</td>\n",
       "      <td>0.37</td>\n",
       "    </tr>\n",
       "    <tr>\n",
       "      <th>2</th>\n",
       "      <td>-1.34</td>\n",
       "      <td>0.48</td>\n",
       "      <td>-1.10</td>\n",
       "      <td>-0.04</td>\n",
       "      <td>-0.55</td>\n",
       "      <td>-0.50</td>\n",
       "      <td>-0.37</td>\n",
       "      <td>-0.04</td>\n",
       "      <td>0.14</td>\n",
       "      <td>0.07</td>\n",
       "      <td>...</td>\n",
       "      <td>0.31</td>\n",
       "      <td>0.71</td>\n",
       "      <td>-0.75</td>\n",
       "      <td>-0.45</td>\n",
       "      <td>-0.14</td>\n",
       "      <td>1.04</td>\n",
       "      <td>0.87</td>\n",
       "      <td>-1.01</td>\n",
       "      <td>-0.20</td>\n",
       "      <td>0.37</td>\n",
       "    </tr>\n",
       "    <tr>\n",
       "      <th>3</th>\n",
       "      <td>-1.34</td>\n",
       "      <td>0.48</td>\n",
       "      <td>-1.10</td>\n",
       "      <td>-0.04</td>\n",
       "      <td>1.82</td>\n",
       "      <td>-0.50</td>\n",
       "      <td>-0.37</td>\n",
       "      <td>-0.06</td>\n",
       "      <td>0.06</td>\n",
       "      <td>0.16</td>\n",
       "      <td>...</td>\n",
       "      <td>0.29</td>\n",
       "      <td>0.78</td>\n",
       "      <td>-0.64</td>\n",
       "      <td>-0.34</td>\n",
       "      <td>-0.18</td>\n",
       "      <td>-1.37</td>\n",
       "      <td>0.99</td>\n",
       "      <td>0.99</td>\n",
       "      <td>-0.20</td>\n",
       "      <td>0.37</td>\n",
       "    </tr>\n",
       "    <tr>\n",
       "      <th>4</th>\n",
       "      <td>-1.34</td>\n",
       "      <td>-0.23</td>\n",
       "      <td>1.11</td>\n",
       "      <td>-0.04</td>\n",
       "      <td>-0.55</td>\n",
       "      <td>-0.50</td>\n",
       "      <td>-0.37</td>\n",
       "      <td>-0.05</td>\n",
       "      <td>0.08</td>\n",
       "      <td>-0.01</td>\n",
       "      <td>...</td>\n",
       "      <td>0.57</td>\n",
       "      <td>0.32</td>\n",
       "      <td>-0.44</td>\n",
       "      <td>-0.89</td>\n",
       "      <td>-0.03</td>\n",
       "      <td>-0.69</td>\n",
       "      <td>0.92</td>\n",
       "      <td>-1.01</td>\n",
       "      <td>-0.20</td>\n",
       "      <td>0.37</td>\n",
       "    </tr>\n",
       "    <tr>\n",
       "      <th>...</th>\n",
       "      <td>...</td>\n",
       "      <td>...</td>\n",
       "      <td>...</td>\n",
       "      <td>...</td>\n",
       "      <td>...</td>\n",
       "      <td>...</td>\n",
       "      <td>...</td>\n",
       "      <td>...</td>\n",
       "      <td>...</td>\n",
       "      <td>...</td>\n",
       "      <td>...</td>\n",
       "      <td>...</td>\n",
       "      <td>...</td>\n",
       "      <td>...</td>\n",
       "      <td>...</td>\n",
       "      <td>...</td>\n",
       "      <td>...</td>\n",
       "      <td>...</td>\n",
       "      <td>...</td>\n",
       "      <td>...</td>\n",
       "      <td>...</td>\n",
       "    </tr>\n",
       "    <tr>\n",
       "      <th>9559</th>\n",
       "      <td>1.62</td>\n",
       "      <td>0.48</td>\n",
       "      <td>-1.10</td>\n",
       "      <td>-0.04</td>\n",
       "      <td>1.82</td>\n",
       "      <td>2.02</td>\n",
       "      <td>-0.37</td>\n",
       "      <td>-0.06</td>\n",
       "      <td>-0.51</td>\n",
       "      <td>0.16</td>\n",
       "      <td>...</td>\n",
       "      <td>-0.12</td>\n",
       "      <td>0.65</td>\n",
       "      <td>-0.85</td>\n",
       "      <td>-0.71</td>\n",
       "      <td>-0.14</td>\n",
       "      <td>1.08</td>\n",
       "      <td>-0.15</td>\n",
       "      <td>0.99</td>\n",
       "      <td>-0.20</td>\n",
       "      <td>0.37</td>\n",
       "    </tr>\n",
       "    <tr>\n",
       "      <th>9560</th>\n",
       "      <td>1.62</td>\n",
       "      <td>0.48</td>\n",
       "      <td>-0.00</td>\n",
       "      <td>-0.04</td>\n",
       "      <td>-0.55</td>\n",
       "      <td>-0.50</td>\n",
       "      <td>-0.37</td>\n",
       "      <td>-0.06</td>\n",
       "      <td>-0.49</td>\n",
       "      <td>-0.21</td>\n",
       "      <td>...</td>\n",
       "      <td>0.48</td>\n",
       "      <td>0.34</td>\n",
       "      <td>-0.61</td>\n",
       "      <td>-1.08</td>\n",
       "      <td>-0.02</td>\n",
       "      <td>-1.16</td>\n",
       "      <td>0.36</td>\n",
       "      <td>-1.01</td>\n",
       "      <td>-0.20</td>\n",
       "      <td>0.37</td>\n",
       "    </tr>\n",
       "    <tr>\n",
       "      <th>9561</th>\n",
       "      <td>1.62</td>\n",
       "      <td>0.48</td>\n",
       "      <td>-1.06</td>\n",
       "      <td>-0.04</td>\n",
       "      <td>-0.55</td>\n",
       "      <td>2.02</td>\n",
       "      <td>-0.37</td>\n",
       "      <td>-0.06</td>\n",
       "      <td>-0.50</td>\n",
       "      <td>-0.18</td>\n",
       "      <td>...</td>\n",
       "      <td>1.12</td>\n",
       "      <td>0.35</td>\n",
       "      <td>-0.61</td>\n",
       "      <td>-1.08</td>\n",
       "      <td>-0.02</td>\n",
       "      <td>0.44</td>\n",
       "      <td>0.83</td>\n",
       "      <td>0.99</td>\n",
       "      <td>-0.20</td>\n",
       "      <td>0.37</td>\n",
       "    </tr>\n",
       "    <tr>\n",
       "      <th>9562</th>\n",
       "      <td>1.62</td>\n",
       "      <td>0.48</td>\n",
       "      <td>-0.90</td>\n",
       "      <td>-0.04</td>\n",
       "      <td>-0.55</td>\n",
       "      <td>-0.50</td>\n",
       "      <td>-0.37</td>\n",
       "      <td>0.19</td>\n",
       "      <td>-0.19</td>\n",
       "      <td>-0.16</td>\n",
       "      <td>...</td>\n",
       "      <td>-2.42</td>\n",
       "      <td>-2.27</td>\n",
       "      <td>-0.91</td>\n",
       "      <td>1.50</td>\n",
       "      <td>-0.15</td>\n",
       "      <td>0.99</td>\n",
       "      <td>-2.45</td>\n",
       "      <td>-1.01</td>\n",
       "      <td>-0.20</td>\n",
       "      <td>0.37</td>\n",
       "    </tr>\n",
       "    <tr>\n",
       "      <th>9563</th>\n",
       "      <td>1.62</td>\n",
       "      <td>0.48</td>\n",
       "      <td>-1.10</td>\n",
       "      <td>-0.04</td>\n",
       "      <td>-0.55</td>\n",
       "      <td>2.02</td>\n",
       "      <td>2.71</td>\n",
       "      <td>-0.05</td>\n",
       "      <td>-0.44</td>\n",
       "      <td>-0.18</td>\n",
       "      <td>...</td>\n",
       "      <td>0.31</td>\n",
       "      <td>0.12</td>\n",
       "      <td>-0.63</td>\n",
       "      <td>-0.97</td>\n",
       "      <td>0.05</td>\n",
       "      <td>1.04</td>\n",
       "      <td>0.41</td>\n",
       "      <td>0.99</td>\n",
       "      <td>-0.20</td>\n",
       "      <td>0.37</td>\n",
       "    </tr>\n",
       "  </tbody>\n",
       "</table>\n",
       "<p>9564 rows × 29 columns</p>\n",
       "</div>"
      ],
      "text/plain": [
       "      kepoi_name  kepler_name  koi_score  koi_fpflag_nt  koi_fpflag_ss  \\\n",
       "0          -1.34        -1.60       1.11          -0.04          -0.55   \n",
       "1          -1.34        -1.60       1.04          -0.04          -0.55   \n",
       "2          -1.34         0.48      -1.10          -0.04          -0.55   \n",
       "3          -1.34         0.48      -1.10          -0.04           1.82   \n",
       "4          -1.34        -0.23       1.11          -0.04          -0.55   \n",
       "...          ...          ...        ...            ...            ...   \n",
       "9559        1.62         0.48      -1.10          -0.04           1.82   \n",
       "9560        1.62         0.48      -0.00          -0.04          -0.55   \n",
       "9561        1.62         0.48      -1.06          -0.04          -0.55   \n",
       "9562        1.62         0.48      -0.90          -0.04          -0.55   \n",
       "9563        1.62         0.48      -1.10          -0.04          -0.55   \n",
       "\n",
       "      koi_fpflag_co  koi_fpflag_ec  koi_period  koi_time0bk  koi_impact  ...  \\\n",
       "0             -0.50          -0.37       -0.05         0.06       -0.18  ...   \n",
       "1             -0.50          -0.37       -0.02        -0.05       -0.04  ...   \n",
       "2             -0.50          -0.37       -0.04         0.14        0.07  ...   \n",
       "3             -0.50          -0.37       -0.06         0.06        0.16  ...   \n",
       "4             -0.50          -0.37       -0.05         0.08       -0.01  ...   \n",
       "...             ...            ...         ...          ...         ...  ...   \n",
       "9559           2.02          -0.37       -0.06        -0.51        0.16  ...   \n",
       "9560          -0.50          -0.37       -0.06        -0.49       -0.21  ...   \n",
       "9561           2.02          -0.37       -0.06        -0.50       -0.18  ...   \n",
       "9562          -0.50          -0.37        0.19        -0.19       -0.16  ...   \n",
       "9563           2.02           2.71       -0.05        -0.44       -0.18  ...   \n",
       "\n",
       "      koi_steff_err1  koi_slogg  koi_slogg_err1  koi_slogg_err2  \\\n",
       "0              -1.45       0.42           -0.51            0.60   \n",
       "1              -1.45       0.42           -0.51            0.60   \n",
       "2               0.31       0.71           -0.75           -0.45   \n",
       "3               0.29       0.78           -0.64           -0.34   \n",
       "4               0.57       0.32           -0.44           -0.89   \n",
       "...              ...        ...             ...             ...   \n",
       "9559           -0.12       0.65           -0.85           -0.71   \n",
       "9560            0.48       0.34           -0.61           -1.08   \n",
       "9561            1.12       0.35           -0.61           -1.08   \n",
       "9562           -2.42      -2.27           -0.91            1.50   \n",
       "9563            0.31       0.12           -0.63           -0.97   \n",
       "\n",
       "      koi_srad_err1    ra  koi_kepmag  False Positive  q1_q17_dr24_tce  \\\n",
       "0             -0.28 -0.03        0.80           -1.01            -0.20   \n",
       "1             -0.28 -0.03        0.80           -1.01            -0.20   \n",
       "2             -0.14  1.04        0.87           -1.01            -0.20   \n",
       "3             -0.18 -1.37        0.99            0.99            -0.20   \n",
       "4             -0.03 -0.69        0.92           -1.01            -0.20   \n",
       "...             ...   ...         ...             ...              ...   \n",
       "9559          -0.14  1.08       -0.15            0.99            -0.20   \n",
       "9560          -0.02 -1.16        0.36           -1.01            -0.20   \n",
       "9561          -0.02  0.44        0.83            0.99            -0.20   \n",
       "9562          -0.15  0.99       -2.45           -1.01            -0.20   \n",
       "9563           0.05  1.04        0.41            0.99            -0.20   \n",
       "\n",
       "      q1_q17_dr25_tce  \n",
       "0                0.37  \n",
       "1                0.37  \n",
       "2                0.37  \n",
       "3                0.37  \n",
       "4                0.37  \n",
       "...               ...  \n",
       "9559             0.37  \n",
       "9560             0.37  \n",
       "9561             0.37  \n",
       "9562             0.37  \n",
       "9563             0.37  \n",
       "\n",
       "[9564 rows x 29 columns]"
      ]
     },
     "execution_count": 50,
     "metadata": {},
     "output_type": "execute_result"
    }
   ],
   "source": [
    "X"
   ]
  },
  {
   "cell_type": "markdown",
   "id": "ee17f87a-6ce7-4b08-8642-53e47942bb2a",
   "metadata": {},
   "source": [
    "# Model Building"
   ]
  },
  {
   "cell_type": "code",
   "execution_count": 51,
   "id": "beb4463c-0790-4a5f-b813-b1ebce711fe8",
   "metadata": {},
   "outputs": [
    {
     "data": {
      "text/plain": [
       "array(['CONFIRMED', 'CANDIDATE', 'FALSE POSITIVE'], dtype=object)"
      ]
     },
     "execution_count": 51,
     "metadata": {},
     "output_type": "execute_result"
    }
   ],
   "source": [
    "y.unique()"
   ]
  },
  {
   "cell_type": "markdown",
   "id": "987e14f6-f08a-465e-bd1a-9465c69c8689",
   "metadata": {},
   "source": [
    "### Models - RandomForest, AdaBoost, XGBoost"
   ]
  },
  {
   "cell_type": "code",
   "execution_count": 52,
   "id": "83a6f8ee-da75-44ab-9168-7092b6c8aa13",
   "metadata": {},
   "outputs": [
    {
     "data": {
      "text/plain": [
       "((6694, 29), (2870, 29), (6694,), (2870,))"
      ]
     },
     "execution_count": 52,
     "metadata": {},
     "output_type": "execute_result"
    }
   ],
   "source": [
    "Xtrain, Xtest, ytrain, ytest = train_test_split(X,y,train_size=0.7,random_state=32)\n",
    "Xtrain.shape, Xtest.shape, ytrain.shape, ytest.shape"
   ]
  },
  {
   "cell_type": "markdown",
   "id": "f62e0821-18da-45fa-aff5-b72286b4b7af",
   "metadata": {},
   "source": [
    "### 1. Random Forest"
   ]
  },
  {
   "cell_type": "code",
   "execution_count": 53,
   "id": "dd2b85e5-03bc-43e6-aefa-e3114f88845f",
   "metadata": {},
   "outputs": [
    {
     "data": {
      "text/plain": [
       "RandomForestClassifier()"
      ]
     },
     "execution_count": 53,
     "metadata": {},
     "output_type": "execute_result"
    }
   ],
   "source": [
    "rf = RandomForestClassifier()\n",
    "rf.fit(Xtrain,ytrain)"
   ]
  },
  {
   "cell_type": "code",
   "execution_count": 54,
   "id": "61ccd945-bafe-4f2c-9739-3f5a0102ba60",
   "metadata": {},
   "outputs": [
    {
     "name": "stdout",
     "output_type": "stream",
     "text": [
      "Accuracy =  1.0\n",
      "Precision =  1.0\n",
      "Recall =  1.0\n",
      "F1-Score =  1.0\n"
     ]
    }
   ],
   "source": [
    "print(\"Accuracy = \",accuracy_score(ytest,rf.predict(Xtest)))\n",
    "print(\"Precision = \",precision_score(ytest,rf.predict(Xtest),average='macro'))\n",
    "print(\"Recall = \",recall_score(ytest,rf.predict(Xtest),average='macro'))\n",
    "print(\"F1-Score = \",fbeta_score(ytest,rf.predict(Xtest),beta=1,average='macro'))"
   ]
  },
  {
   "cell_type": "code",
   "execution_count": 55,
   "id": "7a79989b-a3ce-4651-96ef-c51d5c264050",
   "metadata": {},
   "outputs": [],
   "source": [
    "f1_macro = make_scorer(f1_score,average='macro')"
   ]
  },
  {
   "cell_type": "code",
   "execution_count": 56,
   "id": "99e45b7b-a75b-4ed9-baa9-9532af62a3ae",
   "metadata": {},
   "outputs": [
    {
     "data": {
      "text/plain": [
       "0.9995202843781815"
      ]
     },
     "execution_count": 56,
     "metadata": {},
     "output_type": "execute_result"
    }
   ],
   "source": [
    "rf_test_scores = cross_val_score(rf,Xtest,ytest,cv = StratifiedKFold(10),scoring=f1_macro)\n",
    "rf_test_scores.mean()"
   ]
  },
  {
   "cell_type": "code",
   "execution_count": 88,
   "id": "181d3339-7f64-49e2-9554-7bd5baeccd21",
   "metadata": {},
   "outputs": [
    {
     "data": {
      "text/plain": [
       "array([[ 685,    0,    0],\n",
       "       [   0,  703,    0],\n",
       "       [   0,    0, 1482]], dtype=int64)"
      ]
     },
     "execution_count": 88,
     "metadata": {},
     "output_type": "execute_result"
    }
   ],
   "source": [
    "confusion_matrix(ytest,rf.predict(Xtest))"
   ]
  },
  {
   "cell_type": "markdown",
   "id": "1d571a96-5b9d-4912-a5c6-e400bcd2ffc1",
   "metadata": {},
   "source": [
    "#### HYPERPARAMTER TUNING"
   ]
  },
  {
   "cell_type": "code",
   "execution_count": 79,
   "id": "1171a717-e157-4090-ac6c-7911a5603a75",
   "metadata": {},
   "outputs": [],
   "source": [
    "params = { 'n_estimators' : [100, 150, 200, 250], \n",
    "             'criterion' : ['gini', 'entropy'], \n",
    "             'max_depth' : range(2, 30, 1), \n",
    "             'min_samples_split' : range(2, 30, 1), \n",
    "             'min_samples_leaf' : range(2, 30, 1), \n",
    "          'max_leaf_nodes' : range(2, 20)\n",
    "             }"
   ]
  },
  {
   "cell_type": "code",
   "execution_count": 80,
   "id": "c5fa1137-badf-476c-afb6-cc102293e508",
   "metadata": {},
   "outputs": [],
   "source": [
    "tune = RandomizedSearchCV(rf,params,cv=StratifiedKFold(5),n_jobs=-1,verbose=3)"
   ]
  },
  {
   "cell_type": "code",
   "execution_count": 81,
   "id": "6ac82f05-46b4-4b88-ab2d-03fde5de463b",
   "metadata": {},
   "outputs": [
    {
     "name": "stdout",
     "output_type": "stream",
     "text": [
      "Fitting 5 folds for each of 10 candidates, totalling 50 fits\n"
     ]
    },
    {
     "data": {
      "text/plain": [
       "RandomizedSearchCV(cv=StratifiedKFold(n_splits=5, random_state=None, shuffle=False),\n",
       "                   estimator=RandomForestClassifier(), n_jobs=-1,\n",
       "                   param_distributions={'criterion': ['gini', 'entropy'],\n",
       "                                        'max_depth': range(2, 30),\n",
       "                                        'max_leaf_nodes': range(2, 20),\n",
       "                                        'min_samples_leaf': range(2, 30),\n",
       "                                        'min_samples_split': range(2, 30),\n",
       "                                        'n_estimators': [100, 150, 200, 250]},\n",
       "                   verbose=3)"
      ]
     },
     "execution_count": 81,
     "metadata": {},
     "output_type": "execute_result"
    }
   ],
   "source": [
    "tune.fit(Xtrain,ytrain)"
   ]
  },
  {
   "cell_type": "code",
   "execution_count": 82,
   "id": "94b5a95d-e0e6-4044-b800-97ddce87ce3a",
   "metadata": {},
   "outputs": [
    {
     "data": {
      "text/plain": [
       "RandomForestClassifier(criterion='entropy', max_depth=13, max_leaf_nodes=7,\n",
       "                       min_samples_leaf=10, min_samples_split=28)"
      ]
     },
     "execution_count": 82,
     "metadata": {},
     "output_type": "execute_result"
    }
   ],
   "source": [
    "tune.best_estimator_"
   ]
  },
  {
   "cell_type": "code",
   "execution_count": 83,
   "id": "65c00b1f-965b-4b9c-86df-3706fe6c5f6c",
   "metadata": {},
   "outputs": [],
   "source": [
    "rf_tuned = RandomForestClassifier(criterion='entropy', max_depth=13, max_leaf_nodes=7,\n",
    "                       min_samples_leaf=10, min_samples_split=28)"
   ]
  },
  {
   "cell_type": "code",
   "execution_count": 84,
   "id": "33b4a737-a2f5-4943-a79a-f627a07d0c1c",
   "metadata": {},
   "outputs": [
    {
     "data": {
      "text/plain": [
       "RandomForestClassifier(criterion='entropy', max_depth=13, max_leaf_nodes=7,\n",
       "                       min_samples_leaf=10, min_samples_split=28)"
      ]
     },
     "execution_count": 84,
     "metadata": {},
     "output_type": "execute_result"
    }
   ],
   "source": [
    "rf_tuned.fit(Xtrain,ytrain)"
   ]
  },
  {
   "cell_type": "code",
   "execution_count": 85,
   "id": "c907ea36-9867-4b76-9865-5777e95fad97",
   "metadata": {},
   "outputs": [
    {
     "data": {
      "text/plain": [
       "0.9988196637560545"
      ]
     },
     "execution_count": 85,
     "metadata": {},
     "output_type": "execute_result"
    }
   ],
   "source": [
    "f1_macro = make_scorer(f1_score,average='macro')\n",
    "\n",
    "rf_tuned_test_scores = cross_val_score(rf_tuned,Xtest,ytest,cv = StratifiedKFold(5),scoring=f1_macro)\n",
    "rf_tuned_test_scores.mean()"
   ]
  },
  {
   "cell_type": "code",
   "execution_count": 87,
   "id": "f69edbaa-bd2f-40e8-8c8c-e22784ebdd0b",
   "metadata": {},
   "outputs": [
    {
     "data": {
      "text/plain": [
       "0.0007006206221270572"
      ]
     },
     "execution_count": 87,
     "metadata": {},
     "output_type": "execute_result"
    }
   ],
   "source": [
    "0.9995202843781815 - 0.9988196637560545 # Not tuned RandomForest performing slightly better than tuned\n",
    "# One potential reason - might be penalizing factors leading to overfitting"
   ]
  },
  {
   "cell_type": "code",
   "execution_count": 90,
   "id": "0a4df125-a10f-4e24-9399-af9df271f687",
   "metadata": {},
   "outputs": [
    {
     "data": {
      "text/plain": [
       "array([[ 684,    0,    1],\n",
       "       [   0,  701,    2],\n",
       "       [   0,    0, 1482]], dtype=int64)"
      ]
     },
     "execution_count": 90,
     "metadata": {},
     "output_type": "execute_result"
    }
   ],
   "source": [
    "confusion_matrix(ytest,rf_tuned.predict(Xtest))"
   ]
  },
  {
   "cell_type": "markdown",
   "id": "a21cae2b-2009-4203-8a88-96f5919feb85",
   "metadata": {
    "tags": []
   },
   "source": [
    "## AdaBoost"
   ]
  },
  {
   "cell_type": "code",
   "execution_count": 57,
   "id": "65c14603-c126-4982-8fdb-0813ec0800ea",
   "metadata": {},
   "outputs": [],
   "source": [
    "ada = AdaBoostClassifier()"
   ]
  },
  {
   "cell_type": "code",
   "execution_count": 58,
   "id": "fdd8f35b-7975-4180-8562-204b3b0133d8",
   "metadata": {},
   "outputs": [
    {
     "data": {
      "text/plain": [
       "AdaBoostClassifier()"
      ]
     },
     "execution_count": 58,
     "metadata": {},
     "output_type": "execute_result"
    }
   ],
   "source": [
    "ada.fit(Xtrain,ytrain)"
   ]
  },
  {
   "cell_type": "code",
   "execution_count": 59,
   "id": "d082467a-9bbc-4308-9436-839844e5000b",
   "metadata": {},
   "outputs": [
    {
     "name": "stdout",
     "output_type": "stream",
     "text": [
      "Accuracy =  0.9989547038327526\n",
      "Precision =  0.9993265993265993\n",
      "Recall =  0.9985775248933143\n",
      "F1-Score =  0.9989502008431544\n"
     ]
    }
   ],
   "source": [
    "print(\"Accuracy = \",accuracy_score(ytest,ada.predict(Xtest)))\n",
    "print(\"Precision = \",precision_score(ytest,ada.predict(Xtest),average='macro'))\n",
    "print(\"Recall = \",recall_score(ytest,ada.predict(Xtest),average='macro'))\n",
    "print(\"F1-Score = \",fbeta_score(ytest,ada.predict(Xtest),beta=1,average='macro'))"
   ]
  },
  {
   "cell_type": "code",
   "execution_count": 60,
   "id": "720416ac-c530-4332-899b-4782cb48479b",
   "metadata": {},
   "outputs": [
    {
     "data": {
      "text/plain": [
       "0.9995202843781815"
      ]
     },
     "execution_count": 60,
     "metadata": {},
     "output_type": "execute_result"
    }
   ],
   "source": [
    "f1_macro = make_scorer(f1_score,average='macro')\n",
    "\n",
    "ada_test_scores = cross_val_score(ada,Xtest,ytest,cv = StratifiedKFold(10),scoring=f1_macro)\n",
    "ada_test_scores.mean()"
   ]
  },
  {
   "cell_type": "markdown",
   "id": "7a373eed-2b72-432f-aec2-40cc1c6e88d5",
   "metadata": {},
   "source": [
    "#### HYPERPARAMETER TUNING"
   ]
  },
  {
   "cell_type": "code",
   "execution_count": 64,
   "id": "7b07b6b8-6d83-4d30-99e8-98d43a653656",
   "metadata": {},
   "outputs": [],
   "source": [
    "params = {'base_estimator':[RandomForestClassifier(),LogisticRegression(),ExtraTreesClassifier()],\n",
    "          'n_estimators':[100,150,200,300],\n",
    "          'learning_rate':[0.0001,0.001,0.01,0.1,0.2,0.5],\n",
    "         }"
   ]
  },
  {
   "cell_type": "code",
   "execution_count": 65,
   "id": "1c64a7b9-64b4-48f5-884b-a9f79eac1699",
   "metadata": {},
   "outputs": [],
   "source": [
    "tune = RandomizedSearchCV(ada,params,cv = StratifiedKFold(5),n_jobs=-1,verbose=3)"
   ]
  },
  {
   "cell_type": "code",
   "execution_count": 66,
   "id": "f60b69bc-c693-4d31-b564-c5c273d5b717",
   "metadata": {},
   "outputs": [
    {
     "name": "stdout",
     "output_type": "stream",
     "text": [
      "Fitting 5 folds for each of 10 candidates, totalling 50 fits\n"
     ]
    },
    {
     "data": {
      "text/plain": [
       "RandomizedSearchCV(cv=StratifiedKFold(n_splits=5, random_state=None, shuffle=False),\n",
       "                   estimator=AdaBoostClassifier(), n_jobs=-1,\n",
       "                   param_distributions={'base_estimator': [RandomForestClassifier(),\n",
       "                                                           LogisticRegression(),\n",
       "                                                           ExtraTreesClassifier()],\n",
       "                                        'learning_rate': [0.0001, 0.001, 0.01,\n",
       "                                                          0.1, 0.2, 0.5],\n",
       "                                        'n_estimators': [100, 150, 200, 300]},\n",
       "                   verbose=3)"
      ]
     },
     "execution_count": 66,
     "metadata": {},
     "output_type": "execute_result"
    }
   ],
   "source": [
    "tune.fit(Xtrain,ytrain)"
   ]
  },
  {
   "cell_type": "code",
   "execution_count": 67,
   "id": "45cbf93c-61e0-4f3b-b2c0-7076269a1d99",
   "metadata": {},
   "outputs": [
    {
     "data": {
      "text/plain": [
       "AdaBoostClassifier(base_estimator=RandomForestClassifier(), learning_rate=0.5,\n",
       "                   n_estimators=100)"
      ]
     },
     "execution_count": 67,
     "metadata": {},
     "output_type": "execute_result"
    }
   ],
   "source": [
    "tune.best_estimator_"
   ]
  },
  {
   "cell_type": "code",
   "execution_count": 68,
   "id": "d37a9f69-bc67-4d94-bbd5-845d60584fc2",
   "metadata": {},
   "outputs": [],
   "source": [
    "ada_tuned = AdaBoostClassifier(base_estimator=RandomForestClassifier(), learning_rate=0.5,\n",
    "                   n_estimators=100)"
   ]
  },
  {
   "cell_type": "code",
   "execution_count": 69,
   "id": "9a8f8dd4-1684-46d0-8777-6d62e3208fec",
   "metadata": {},
   "outputs": [
    {
     "data": {
      "text/plain": [
       "AdaBoostClassifier(base_estimator=RandomForestClassifier(), learning_rate=0.5,\n",
       "                   n_estimators=100)"
      ]
     },
     "execution_count": 69,
     "metadata": {},
     "output_type": "execute_result"
    }
   ],
   "source": [
    "ada_tuned.fit(Xtrain,ytrain)"
   ]
  },
  {
   "cell_type": "code",
   "execution_count": 70,
   "id": "91a0fe01-b069-44ed-a6c5-1b6f2ab4e05b",
   "metadata": {},
   "outputs": [
    {
     "data": {
      "text/plain": [
       "0.9995203278334952"
      ]
     },
     "execution_count": 70,
     "metadata": {},
     "output_type": "execute_result"
    }
   ],
   "source": [
    "f1_macro = make_scorer(f1_score,average='macro')\n",
    "\n",
    "ada_tuned_test_scores = cross_val_score(ada_tuned,Xtest,ytest,cv = StratifiedKFold(5),scoring=f1_macro)\n",
    "ada_tuned_test_scores.mean()"
   ]
  },
  {
   "cell_type": "code",
   "execution_count": 74,
   "id": "acd40b77-76b9-4299-96e1-101354c8ccd7",
   "metadata": {},
   "outputs": [
    {
     "data": {
      "text/plain": [
       "4.34553136807736e-08"
      ]
     },
     "execution_count": 74,
     "metadata": {},
     "output_type": "execute_result"
    }
   ],
   "source": [
    "0.9995203278334952 - 0.9995202843781815 #ada_tuned - ada -> hyperparameter tuning gives better results"
   ]
  },
  {
   "cell_type": "code",
   "execution_count": 76,
   "id": "55d04427-918f-4cea-bcf6-fe0e7ebd5818",
   "metadata": {},
   "outputs": [
    {
     "data": {
      "text/plain": [
       "array([[ 685,    0,    0],\n",
       "       [   1,  702,    0],\n",
       "       [   0,    0, 1482]], dtype=int64)"
      ]
     },
     "execution_count": 76,
     "metadata": {},
     "output_type": "execute_result"
    }
   ],
   "source": [
    "confusion_matrix(ytest,ada_tuned.predict(Xtest))"
   ]
  },
  {
   "cell_type": "markdown",
   "id": "4ddada40-15cd-4d3c-a868-24456a5e3912",
   "metadata": {},
   "source": [
    "## XGBoost"
   ]
  },
  {
   "cell_type": "code",
   "execution_count": 97,
   "id": "92b6439d-4928-494d-82ea-8474cbddd869",
   "metadata": {},
   "outputs": [],
   "source": [
    "y_xgb = y.copy()\n",
    "y_xgb.replace({'CONFIRMED':0,'CANDIDATE':1,'FALSE POSITIVE':2},inplace=True)\n",
    "xgb = xgboost.XGBClassifier()"
   ]
  },
  {
   "cell_type": "code",
   "execution_count": 98,
   "id": "160d00da-b27b-4f3b-ba40-8728439abc2e",
   "metadata": {},
   "outputs": [],
   "source": [
    "Xtrain_xgb, Xtest_xgb, ytrain_xgb, ytest_xgb = train_test_split(X,y_xgb,train_size=0.7,random_state=32)"
   ]
  },
  {
   "cell_type": "code",
   "execution_count": 99,
   "id": "035e0331-b289-4e31-af04-5b200809a60b",
   "metadata": {},
   "outputs": [
    {
     "data": {
      "text/plain": [
       "XGBClassifier(base_score=0.5, booster='gbtree', callbacks=None,\n",
       "              colsample_bylevel=1, colsample_bynode=1, colsample_bytree=1,\n",
       "              early_stopping_rounds=None, enable_categorical=False,\n",
       "              eval_metric=None, gamma=0, gpu_id=-1, grow_policy='depthwise',\n",
       "              importance_type=None, interaction_constraints='',\n",
       "              learning_rate=0.300000012, max_bin=256, max_cat_to_onehot=4,\n",
       "              max_delta_step=0, max_depth=6, max_leaves=0, min_child_weight=1,\n",
       "              missing=nan, monotone_constraints='()', n_estimators=100,\n",
       "              n_jobs=0, num_parallel_tree=1, objective='multi:softprob',\n",
       "              predictor='auto', random_state=0, reg_alpha=0, ...)"
      ]
     },
     "execution_count": 99,
     "metadata": {},
     "output_type": "execute_result"
    }
   ],
   "source": [
    "xgb.fit(Xtrain_xgb,ytrain_xgb)"
   ]
  },
  {
   "cell_type": "code",
   "execution_count": 100,
   "id": "cfb11bb0-6a91-4d64-bb62-64aa5beb1d37",
   "metadata": {},
   "outputs": [
    {
     "name": "stdout",
     "output_type": "stream",
     "text": [
      "Accuracy =  0.9993031358885017\n",
      "Precision =  0.9992893217396773\n",
      "Recall =  0.9990516832622096\n",
      "F1-Score =  0.9991696119482856\n"
     ]
    }
   ],
   "source": [
    "print(\"Accuracy = \",accuracy_score(ytest_xgb,xgb.predict(Xtest_xgb)))\n",
    "print(\"Precision = \",precision_score(ytest_xgb,xgb.predict(Xtest_xgb),average='macro'))\n",
    "print(\"Recall = \",recall_score(ytest_xgb,xgb.predict(Xtest_xgb),average='macro'))\n",
    "print(\"F1-Score = \",fbeta_score(ytest_xgb,xgb.predict(Xtest_xgb),beta=1,average='macro'))"
   ]
  },
  {
   "cell_type": "code",
   "execution_count": 102,
   "id": "e627a79d-93e1-45b9-912e-31e45ebaa71a",
   "metadata": {},
   "outputs": [
    {
     "data": {
      "text/plain": [
       "0.9995203278334952"
      ]
     },
     "execution_count": 102,
     "metadata": {},
     "output_type": "execute_result"
    }
   ],
   "source": [
    "f1_macro = make_scorer(f1_score,average='macro')\n",
    "\n",
    "xgb_test_scores = cross_val_score(xgb,Xtest_xgb,ytest_xgb,cv = StratifiedKFold(5),scoring=f1_macro)\n",
    "xgb_test_scores.mean()"
   ]
  },
  {
   "cell_type": "markdown",
   "id": "39b81eeb-86e9-43e5-a4a8-859fbb2dc23e",
   "metadata": {},
   "source": [
    "#### HYPERPARAMETER TUNING"
   ]
  },
  {
   "cell_type": "code",
   "execution_count": 103,
   "id": "6bddab13-cc9b-4011-a727-963fc6dce35a",
   "metadata": {},
   "outputs": [],
   "source": [
    "params={\n",
    " \"learning_rate\"    : [0.0001, 0.001, 0.01, 0.1,0.2,0.5 ] ,\n",
    " \"max_depth\"        : [ 3, 4, 5, 6, 8, 10, 12, 15],\n",
    " \"min_child_weight\" : [ 1, 3, 5, 7 ],\n",
    " \"gamma\"            : [ 0.0, 0.1, 0.2 , 0.3, 0.4, 0.5],\n",
    "}"
   ]
  },
  {
   "cell_type": "code",
   "execution_count": 104,
   "id": "4a3241a8-32d3-4397-b7cc-2daa7b33d47b",
   "metadata": {},
   "outputs": [],
   "source": [
    "tune = RandomizedSearchCV(xgb, params, cv=StratifiedKFold(5), n_jobs=-1, verbose=3)"
   ]
  },
  {
   "cell_type": "code",
   "execution_count": 106,
   "id": "125f9015-13c0-4efc-9404-9dbc21293a19",
   "metadata": {},
   "outputs": [
    {
     "name": "stdout",
     "output_type": "stream",
     "text": [
      "Fitting 5 folds for each of 10 candidates, totalling 50 fits\n"
     ]
    },
    {
     "data": {
      "text/plain": [
       "RandomizedSearchCV(cv=StratifiedKFold(n_splits=5, random_state=None, shuffle=False),\n",
       "                   estimator=XGBClassifier(base_score=0.5, booster='gbtree',\n",
       "                                           callbacks=None, colsample_bylevel=1,\n",
       "                                           colsample_bynode=1,\n",
       "                                           colsample_bytree=1,\n",
       "                                           early_stopping_rounds=None,\n",
       "                                           enable_categorical=False,\n",
       "                                           eval_metric=None, gamma=0, gpu_id=-1,\n",
       "                                           grow_policy='depthwise',\n",
       "                                           importance_type=None,\n",
       "                                           interac...\n",
       "                                           max_leaves=0, min_child_weight=1,\n",
       "                                           missing=nan,\n",
       "                                           monotone_constraints='()',\n",
       "                                           n_estimators=100, n_jobs=0,\n",
       "                                           num_parallel_tree=1,\n",
       "                                           objective='multi:softprob',\n",
       "                                           predictor='auto', random_state=0,\n",
       "                                           reg_alpha=0, ...),\n",
       "                   n_jobs=-1,\n",
       "                   param_distributions={'gamma': [0.0, 0.1, 0.2, 0.3, 0.4, 0.5],\n",
       "                                        'learning_rate': [0.0001, 0.001, 0.01,\n",
       "                                                          0.1, 0.2, 0.5],\n",
       "                                        'max_depth': [3, 4, 5, 6, 8, 10, 12,\n",
       "                                                      15],\n",
       "                                        'min_child_weight': [1, 3, 5, 7]},\n",
       "                   verbose=3)"
      ]
     },
     "execution_count": 106,
     "metadata": {},
     "output_type": "execute_result"
    }
   ],
   "source": [
    "tune.fit(Xtrain_xgb,ytrain_xgb)"
   ]
  },
  {
   "cell_type": "code",
   "execution_count": 108,
   "id": "0d7d63a5-3a9d-40b1-9ea2-567dc9503049",
   "metadata": {},
   "outputs": [
    {
     "data": {
      "text/plain": [
       "{'min_child_weight': 5, 'max_depth': 15, 'learning_rate': 0.1, 'gamma': 0.1}"
      ]
     },
     "execution_count": 108,
     "metadata": {},
     "output_type": "execute_result"
    }
   ],
   "source": [
    "tune.best_params_"
   ]
  },
  {
   "cell_type": "code",
   "execution_count": 109,
   "id": "81a6eef8-7499-4ebf-b566-dc2c2f54f201",
   "metadata": {},
   "outputs": [],
   "source": [
    "xgb_tuned = xgboost.XGBClassifier(min_child_weight=5,max_depth=15,learning_rate=0.1,gamma=0.1)"
   ]
  },
  {
   "cell_type": "code",
   "execution_count": 111,
   "id": "674b9ac0-35d1-4566-8db8-45d8ea11e381",
   "metadata": {},
   "outputs": [
    {
     "data": {
      "text/plain": [
       "XGBClassifier(base_score=0.5, booster='gbtree', callbacks=None,\n",
       "              colsample_bylevel=1, colsample_bynode=1, colsample_bytree=1,\n",
       "              early_stopping_rounds=None, enable_categorical=False,\n",
       "              eval_metric=None, gamma=0.1, gpu_id=-1, grow_policy='depthwise',\n",
       "              importance_type=None, interaction_constraints='',\n",
       "              learning_rate=0.1, max_bin=256, max_cat_to_onehot=4,\n",
       "              max_delta_step=0, max_depth=15, max_leaves=0, min_child_weight=5,\n",
       "              missing=nan, monotone_constraints='()', n_estimators=100,\n",
       "              n_jobs=0, num_parallel_tree=1, objective='multi:softprob',\n",
       "              predictor='auto', random_state=0, reg_alpha=0, ...)"
      ]
     },
     "execution_count": 111,
     "metadata": {},
     "output_type": "execute_result"
    }
   ],
   "source": [
    "xgb_tuned.fit(Xtrain_xgb,ytrain_xgb)"
   ]
  },
  {
   "cell_type": "code",
   "execution_count": 112,
   "id": "8542e778-c820-42bd-89c9-05fdc8a086e9",
   "metadata": {},
   "outputs": [
    {
     "data": {
      "text/plain": [
       "0.9995203278334952"
      ]
     },
     "execution_count": 112,
     "metadata": {},
     "output_type": "execute_result"
    }
   ],
   "source": [
    "f1_macro = make_scorer(f1_score,average='macro')\n",
    "\n",
    "xgb_tuned_test_scores = cross_val_score(xgb_tuned,Xtest_xgb,ytest_xgb,cv = StratifiedKFold(5),scoring=f1_macro)\n",
    "xgb_tuned_test_scores.mean()"
   ]
  },
  {
   "cell_type": "code",
   "execution_count": 114,
   "id": "3bde68fd-6892-4a3f-8a99-149399f88db8",
   "metadata": {},
   "outputs": [
    {
     "data": {
      "text/plain": [
       "0.0"
      ]
     },
     "execution_count": 114,
     "metadata": {},
     "output_type": "execute_result"
    }
   ],
   "source": [
    "0.9995203278334952 - 0.9995203278334952 # Even after tuning, XGBoost gives same F1-Score"
   ]
  },
  {
   "cell_type": "code",
   "execution_count": 115,
   "id": "42f2958e-0fe4-44b8-bcca-ab0f818b6ee9",
   "metadata": {},
   "outputs": [
    {
     "data": {
      "text/plain": [
       "array([[ 702,    1,    0],\n",
       "       [   0,  685,    0],\n",
       "       [   0,    0, 1482]], dtype=int64)"
      ]
     },
     "execution_count": 115,
     "metadata": {},
     "output_type": "execute_result"
    }
   ],
   "source": [
    "confusion_matrix(ytest_xgb,xgb_tuned.predict(Xtest_xgb))"
   ]
  },
  {
   "cell_type": "markdown",
   "id": "92cc9a26-24b4-4362-8255-e9d1c6285d13",
   "metadata": {},
   "source": [
    "# -- Final Results (Comparison) --"
   ]
  },
  {
   "cell_type": "markdown",
   "id": "a7652802-eab5-4c73-9874-f33f9390be7c",
   "metadata": {},
   "source": [
    "# Comparison with respect to F1-score:\n",
    "\n",
    "## 1. Random Forest - \n",
    "### Tuned - 0.9988196637560545\n",
    "### Not tuned - 0.9995202843781815 (Better)\n",
    "\n",
    "----\n",
    "\n",
    "## 2. AdaBoost - \n",
    "### Tuned - 0.9995203278334952 (Better)\n",
    "### Not tuned - 0.9995202843781815 \n",
    "\n",
    "---\n",
    "\n",
    "## 3. XGBoost\n",
    "### Tuned - 0.9995203278334952 (Same)\n",
    "### Not Tuned - 0.9995203278334952 (Same)"
   ]
  },
  {
   "cell_type": "markdown",
   "id": "f55adfe7-ee8c-4e4f-b0fa-cb49d00b943c",
   "metadata": {},
   "source": [
    "## AdaBoost and XGBoost give same results but AdaBoost gives results a little quicker. \n",
    "\n",
    "## Therefore, choosing _AdaBoost_ as the best Machine Learning model."
   ]
  },
  {
   "cell_type": "code",
   "execution_count": null,
   "id": "6b9bd39c-9f91-403b-ac1a-e770f3d97551",
   "metadata": {},
   "outputs": [],
   "source": []
  }
 ],
 "metadata": {
  "kernelspec": {
   "display_name": "Python 3 (ipykernel)",
   "language": "python",
   "name": "python3"
  },
  "language_info": {
   "codemirror_mode": {
    "name": "ipython",
    "version": 3
   },
   "file_extension": ".py",
   "mimetype": "text/x-python",
   "name": "python",
   "nbconvert_exporter": "python",
   "pygments_lexer": "ipython3",
   "version": "3.9.13"
  }
 },
 "nbformat": 4,
 "nbformat_minor": 5
}
